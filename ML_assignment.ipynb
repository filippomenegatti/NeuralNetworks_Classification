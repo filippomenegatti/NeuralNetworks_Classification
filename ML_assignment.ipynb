{
  "nbformat": 4,
  "nbformat_minor": 5,
  "metadata": {
    "kernelspec": {
      "display_name": "Python 3",
      "language": "python",
      "name": "python3"
    },
    "language_info": {
      "codemirror_mode": {
        "name": "ipython",
        "version": 3
      },
      "file_extension": ".py",
      "mimetype": "text/x-python",
      "name": "python",
      "nbconvert_exporter": "python",
      "pygments_lexer": "ipython3",
      "version": "3.7.9"
    },
    "colab": {
      "name": "ML_assignment.ipynb",
      "provenance": [],
      "include_colab_link": true
    }
  },
  "cells": [
    {
      "cell_type": "markdown",
      "metadata": {
        "id": "view-in-github",
        "colab_type": "text"
      },
      "source": [
        "<a href=\"https://colab.research.google.com/github/filippomenegatti/NeuralNetwork_ClassificationProj/blob/main/ML_assignment.ipynb\" target=\"_parent\"><img src=\"https://colab.research.google.com/assets/colab-badge.svg\" alt=\"Open In Colab\"/></a>"
      ]
    },
    {
      "cell_type": "markdown",
      "metadata": {
        "id": "surprising-arena"
      },
      "source": [
        "# Image classification with Neural Networks\n",
        "Use `tensorflow` to train neural networks for the classification of fruit/vegetable types based on images from this dataset. Images must be transformed from JPG to RGB pixel values and scaled down (e.g., 32x32).  \n",
        "Use fruit/vegetable types (as opposed to variety) as labels to predict and consider only the 10 most frequent types (apple, banana, plum, pepper, cherry, grape, tomato, potato, pear, peach).  \n",
        "Experiment with different network architectures and training parameters documenting their influence of the final predictive performance. While the training loss can be chosen freely, the reported test errors must be measured according to the zero-one loss for multiclass classification."
      ],
      "id": "surprising-arena"
    },
    {
      "cell_type": "markdown",
      "metadata": {
        "id": "JP9O6lRQkGkE"
      },
      "source": [
        ""
      ],
      "id": "JP9O6lRQkGkE"
    },
    {
      "cell_type": "code",
      "metadata": {
        "id": "qYn4zn5hkL77"
      },
      "source": [
        "from google.colab import files\r\n",
        "\r\n",
        "files.upload() #import the kaggle.json file"
      ],
      "id": "qYn4zn5hkL77",
      "execution_count": null,
      "outputs": []
    },
    {
      "cell_type": "code",
      "metadata": {
        "id": "qZChZTy2kLzb"
      },
      "source": [
        "!pip install -q kaggle\r\n",
        "!mkdir ~/.kaggle\r\n",
        "!cp kaggle.json ~/.kaggle/\r\n",
        "!chmod 600 ~/.kaggle/kaggle.json\r\n",
        "!kaggle datasets download -d moltean/fruits\r\n",
        "!mkdir ML_assignment\r\n",
        "!unzip fruits.zip -d ML_assignment"
      ],
      "id": "qZChZTy2kLzb",
      "execution_count": null,
      "outputs": []
    },
    {
      "cell_type": "code",
      "metadata": {
        "id": "serious-privilege"
      },
      "source": [
        "import os\n",
        "import random\n",
        "import numpy as np\n",
        "import matplotlib.pyplot as plt\n",
        "import pandas as pd\n",
        "\n",
        "from sklearn.utils import shuffle\n",
        "from sklearn.model_selection import train_test_split\n",
        "\n",
        "import tensorflow as tf\n",
        "from tensorflow import keras\n",
        "from keras.preprocessing.image import array_to_img, img_to_array, load_img\n",
        "from keras.utils import np_utils\n",
        "from keras.models import Sequential\n",
        "from keras.layers import Dense, Flatten, Conv2D, Dropout\n",
        "from keras.losses import categorical_crossentropy\n",
        "from keras.optimizers import Adam, SGD, RMSprop\n",
        "from keras import regularizers\n",
        "from keras.callbacks import LearningRateScheduler, History, EarlyStopping"
      ],
      "id": "serious-privilege",
      "execution_count": null,
      "outputs": []
    },
    {
      "cell_type": "markdown",
      "metadata": {
        "id": "LkEoRHoWoaqR"
      },
      "source": [
        "## Import of the dataset"
      ],
      "id": "LkEoRHoWoaqR"
    },
    {
      "cell_type": "code",
      "metadata": {
        "id": "written-powell"
      },
      "source": [
        "file_path = '/content/ML_assignment/fruits-360'"
      ],
      "id": "written-powell",
      "execution_count": null,
      "outputs": []
    },
    {
      "cell_type": "code",
      "metadata": {
        "id": "breeding-flooring"
      },
      "source": [
        "types = [\"Apple\", \"Banana\", \"Plum\", \"Pepper\", \"Cherry\", \"Grape\", \"Tomato\", \"Potato\", \"Pear\", \"Peach\"]\n",
        "\n",
        "fruits = {}\n",
        "\n",
        "def load_dataset(dire):\n",
        "    fruits = {}\n",
        "    images_as_array = []\n",
        "    labels =[]\n",
        "    for category in os.listdir(dire):\n",
        "        for typ in types:\n",
        "            if(category.split()[0] == typ):\n",
        "                fruits[category]= typ\n",
        "                path = os.path.join(dire,category)\n",
        "                class_num =types.index(fruits[category])\n",
        "\n",
        "                class_name = fruits[category]\n",
        "                for img in os.listdir(path):\n",
        "                    file = os.path.join(path,img)\n",
        "                    images_as_array.append(img_to_array(load_img(file,target_size=(32, 32))))\n",
        "                    labels.append(class_num)\n",
        "    images_as_array =  np.array(images_as_array)\n",
        "    labels = np.array(labels)\n",
        "    return images_as_array, labels"
      ],
      "id": "breeding-flooring",
      "execution_count": null,
      "outputs": []
    },
    {
      "cell_type": "code",
      "metadata": {
        "id": "cubic-worthy"
      },
      "source": [
        "train_path= '/content/ML_assignment/fruits-360/Training'\n",
        "test_path= '/content/ML_assignment/fruits-360/Test'"
      ],
      "id": "cubic-worthy",
      "execution_count": null,
      "outputs": []
    },
    {
      "cell_type": "code",
      "metadata": {
        "id": "varied-metropolitan"
      },
      "source": [
        "train = load_dataset(train_path)\r\n",
        "test = load_dataset(test_path)"
      ],
      "id": "varied-metropolitan",
      "execution_count": null,
      "outputs": []
    },
    {
      "cell_type": "code",
      "metadata": {
        "id": "filled-connection"
      },
      "source": [
        "X_train, y_train = train\n",
        "X_test, y_test = test"
      ],
      "id": "filled-connection",
      "execution_count": null,
      "outputs": []
    },
    {
      "cell_type": "code",
      "metadata": {
        "id": "underlying-australian"
      },
      "source": [
        "random.seed(33)"
      ],
      "id": "underlying-australian",
      "execution_count": null,
      "outputs": []
    },
    {
      "cell_type": "code",
      "metadata": {
        "id": "later-mainland"
      },
      "source": [
        "X_train, y_train = shuffle(X_train, y_train)\n",
        "X_test, y_test = shuffle(X_test, y_test)"
      ],
      "id": "later-mainland",
      "execution_count": null,
      "outputs": []
    },
    {
      "cell_type": "code",
      "metadata": {
        "colab": {
          "base_uri": "https://localhost:8080/"
        },
        "id": "above-wesley",
        "outputId": "c6403948-8139-42a1-89df-d886a3205635"
      },
      "source": [
        "print(X_train.shape)\n",
        "print(X_test.shape)"
      ],
      "id": "above-wesley",
      "execution_count": null,
      "outputs": [
        {
          "output_type": "stream",
          "text": [
            "(32607, 32, 32, 3)\n",
            "(10906, 32, 32, 3)\n"
          ],
          "name": "stdout"
        }
      ]
    },
    {
      "cell_type": "code",
      "metadata": {
        "colab": {
          "base_uri": "https://localhost:8080/"
        },
        "id": "simplified-jamaica",
        "outputId": "6523b40e-b51e-4da2-f446-e63d96ad2a72"
      },
      "source": [
        "n_classes = len(np.unique(y_train))\n",
        "n_classes"
      ],
      "id": "simplified-jamaica",
      "execution_count": null,
      "outputs": [
        {
          "output_type": "execute_result",
          "data": {
            "text/plain": [
              "10"
            ]
          },
          "metadata": {
            "tags": []
          },
          "execution_count": 12
        }
      ]
    },
    {
      "cell_type": "code",
      "metadata": {
        "colab": {
          "base_uri": "https://localhost:8080/",
          "height": 319
        },
        "id": "referenced-helicopter",
        "outputId": "b1e465cf-b612-4b90-a009-54385fabbcec"
      },
      "source": [
        "#look at the distribution of the classes in the sets\n",
        "\n",
        "unique, counts = np.unique(y_train, return_counts=True)\n",
        "plt.bar(types, counts)\n",
        "\n",
        "unique, counts = np.unique(y_test, return_counts=True)\n",
        "plt.bar(types, counts)\n",
        "\n",
        "plt.xticks(rotation=45)\n",
        "plt.gca().legend(('y_train','y_test'))\n",
        "plt.title('Class Frequency')\n",
        "plt.xlabel('Class')\n",
        "plt.ylabel('Frequency')\n",
        "\n",
        "plt.show()"
      ],
      "id": "referenced-helicopter",
      "execution_count": null,
      "outputs": [
        {
          "output_type": "display_data",
          "data": {
            "image/png": "[encoded data removed]",
            "text/plain": [
              "<Figure size 432x288 with 1 Axes>"
            ]
          },
          "metadata": {
            "tags": [],
            "needs_background": "light"
          }
        }
      ]
    },
    {
      "cell_type": "code",
      "metadata": {
        "id": "worth-census"
      },
      "source": [
        "# create validation set from test set 75/25"
      ],
      "id": "worth-census",
      "execution_count": null,
      "outputs": []
    },
    {
      "cell_type": "code",
      "metadata": {
        "id": "widespread-joshua"
      },
      "source": [
        "X_val, X_train, y_val, y_train  = train_test_split(X_train, y_train, train_size = 0.20)"
      ],
      "id": "widespread-joshua",
      "execution_count": null,
      "outputs": []
    },
    {
      "cell_type": "code",
      "metadata": {
        "id": "palestinian-wallpaper"
      },
      "source": [
        "X_train = X_train.astype('float32')/255\n",
        "X_test = X_test.astype('float32')/255\n",
        "X_val = X_val.astype('float32')/255"
      ],
      "id": "palestinian-wallpaper",
      "execution_count": null,
      "outputs": []
    },
    {
      "cell_type": "code",
      "metadata": {
        "colab": {
          "base_uri": "https://localhost:8080/"
        },
        "id": "ideal-butler",
        "outputId": "e3cf3e57-e597-425e-ce3a-f0d9cff0a220"
      },
      "source": [
        "print('Training X:\\n',X_train.shape)\n",
        "print('\\nVaildation X:\\n',X_val.shape)\n",
        "print('\\nTest X:\\n',X_test.shape)"
      ],
      "id": "ideal-butler",
      "execution_count": null,
      "outputs": [
        {
          "output_type": "stream",
          "text": [
            "Training X:\n",
            " (26086, 32, 32, 3)\n",
            "\n",
            "Vaildation X:\n",
            " (6521, 32, 32, 3)\n",
            "\n",
            "Test X:\n",
            " (10906, 32, 32, 3)\n"
          ],
          "name": "stdout"
        }
      ]
    },
    {
      "cell_type": "code",
      "metadata": {
        "colab": {
          "base_uri": "https://localhost:8080/",
          "height": 292
        },
        "id": "signed-graphics",
        "outputId": "162a3d58-67a1-4645-a2e1-c638cb9378a8"
      },
      "source": [
        "n_rows = 3\n",
        "n_cols = 6\n",
        "plt.figure(figsize=(n_cols * 1.5, n_rows * 1.5))\n",
        "for row in range(n_rows):\n",
        "    for col in range(n_cols):\n",
        "        index = n_cols * row + col\n",
        "        plt.subplot(n_rows, n_cols, index + 1)\n",
        "        plt.imshow(X_train[index], cmap=\"binary\", interpolation=\"nearest\")\n",
        "        plt.axis('off')\n",
        "        plt.title(types[y_train[index]], fontsize=12)\n",
        "plt.subplots_adjust(wspace=0.2, hspace=0.5)\n",
        "plt.show()"
      ],
      "id": "signed-graphics",
      "execution_count": null,
      "outputs": [
        {
          "output_type": "display_data",
          "data": {
            "image/png": "[encoded data removed]",
            "text/plain": [
              "<Figure size 648x324 with 18 Axes>"
            ]
          },
          "metadata": {
            "tags": [],
            "needs_background": "light"
          }
        }
      ]
    },
    {
      "cell_type": "code",
      "metadata": {
        "id": "lovely-health"
      },
      "source": [
        "y_train = np_utils.to_categorical(y_train, n_classes)\n",
        "y_val = np_utils.to_categorical(y_val, n_classes)\n",
        "y_test = np_utils.to_categorical(y_test, n_classes)"
      ],
      "id": "lovely-health",
      "execution_count": null,
      "outputs": []
    },
    {
      "cell_type": "markdown",
      "metadata": {
        "id": "native-physiology"
      },
      "source": [
        "## 0-1 Loss Function"
      ],
      "id": "native-physiology"
    },
    {
      "cell_type": "code",
      "metadata": {
        "id": "rough-mason"
      },
      "source": [
        "def zo_loss(test, pred):\n",
        "    y_hat = []\n",
        "    y_t = []\n",
        "    for i in range(len(pred)):\n",
        "        y_hat.append(np.argmax(pred[i]))\n",
        "        y_t.append(np.argmax(test[i]))\n",
        "\n",
        "   \n",
        "    loss = []\n",
        "    for i in range(len(pred)):\n",
        "        if(y_hat[i] == y_t[i]):\n",
        "            loss.append(0)\n",
        "        else:\n",
        "            loss.append(1)\n",
        "\n",
        "\n",
        "    return np.mean(loss)"
      ],
      "id": "rough-mason",
      "execution_count": null,
      "outputs": []
    },
    {
      "cell_type": "markdown",
      "metadata": {
        "id": "expected-exhaust"
      },
      "source": [
        "## First try model"
      ],
      "id": "expected-exhaust"
    },
    {
      "cell_type": "markdown",
      "metadata": {
        "id": "prepared-physiology"
      },
      "source": [
        "Cross-entropy loss function:  \n",
        "$ H(y,\\hat{y}) =  -\\sum_i y_i \\log \\hat{y_i} $"
      ],
      "id": "prepared-physiology"
    },
    {
      "cell_type": "markdown",
      "metadata": {
        "id": "excited-tackle"
      },
      "source": [
        "### Stochastic Gradient Descent"
      ],
      "id": "excited-tackle"
    },
    {
      "cell_type": "markdown",
      "metadata": {
        "id": "supposed-married"
      },
      "source": [
        "## Standard basic model"
      ],
      "id": "supposed-married"
    },
    {
      "cell_type": "code",
      "metadata": {
        "id": "conscious-journalist"
      },
      "source": [
        "tf.random.set_seed(33)"
      ],
      "id": "conscious-journalist",
      "execution_count": null,
      "outputs": []
    },
    {
      "cell_type": "code",
      "metadata": {
        "colab": {
          "base_uri": "https://localhost:8080/"
        },
        "id": "qualified-florence",
        "outputId": "9dc89fb8-9021-4454-c210-43182a6d3c98"
      },
      "source": [
        "model1 = keras.Sequential()\n",
        "model1.add(keras.layers.Flatten(input_shape=[32, 32, 3]))\n",
        "model1.add(keras.layers.Dense(230, activation=\"relu\"))\n",
        "model1.add(keras.layers.Dense(100, activation=\"relu\"))\n",
        "model1.add(keras.layers.Dense(10, activation=\"softmax\"))\n",
        "\n",
        "model1.compile(loss = keras.losses.categorical_crossentropy,\n",
        "              optimizer = \"sgd\",\n",
        "              metrics = [\"accuracy\"])\n",
        "\n",
        "model1.summary()"
      ],
      "id": "qualified-florence",
      "execution_count": null,
      "outputs": [
        {
          "output_type": "stream",
          "text": [
            "Model: \"sequential\"\n",
            "_________________________________________________________________\n",
            "Layer (type)                 Output Shape              Param #   \n",
            "=================================================================\n",
            "flatten (Flatten)            (None, 3072)              0         \n",
            "_________________________________________________________________\n",
            "dense (Dense)                (None, 230)               706790    \n",
            "_________________________________________________________________\n",
            "dense_1 (Dense)              (None, 100)               23100     \n",
            "_________________________________________________________________\n",
            "dense_2 (Dense)              (None, 10)                1010      \n",
            "=================================================================\n",
            "Total params: 730,900\n",
            "Trainable params: 730,900\n",
            "Non-trainable params: 0\n",
            "_________________________________________________________________\n"
          ],
          "name": "stdout"
        }
      ]
    },
    {
      "cell_type": "markdown",
      "metadata": {
        "id": "arctic-former"
      },
      "source": [
        "Fitting of the model"
      ],
      "id": "arctic-former"
    },
    {
      "cell_type": "code",
      "metadata": {
        "id": "infrared-event"
      },
      "source": [
        "%%time\n",
        "\n",
        "history1 = model1.fit(X_train, y_train, epochs=30,\n",
        "                    validation_data=(X_val, y_val), verbose = 1,\n",
        "                     callbacks = [EarlyStopping(monitor='val_accuracy', patience=2)])"
      ],
      "id": "infrared-event",
      "execution_count": null,
      "outputs": []
    },
    {
      "cell_type": "code",
      "metadata": {
        "colab": {
          "base_uri": "https://localhost:8080/"
        },
        "id": "atomic-developer",
        "outputId": "762bb8c0-2437-4ca2-ec7e-3e2c784184fe"
      },
      "source": [
        "model1.evaluate(X_train, y_train)\n",
        "model1.evaluate(X_test, y_test)"
      ],
      "id": "atomic-developer",
      "execution_count": null,
      "outputs": [
        {
          "output_type": "stream",
          "text": [
            "816/816 [==============================] - 2s 3ms/step - loss: 0.0055 - accuracy: 0.9999\n",
            "341/341 [==============================] - 1s 3ms/step - loss: 0.1832 - accuracy: 0.9443\n"
          ],
          "name": "stdout"
        },
        {
          "output_type": "execute_result",
          "data": {
            "text/plain": [
              "[0.18316933512687683, 0.9443425536155701]"
            ]
          },
          "metadata": {
            "tags": []
          },
          "execution_count": 35
        }
      ]
    },
    {
      "cell_type": "code",
      "metadata": {
        "colab": {
          "base_uri": "https://localhost:8080/",
          "height": 324
        },
        "id": "funky-soundtrack",
        "outputId": "82c122ef-2b2b-4f89-dbdc-79abfa1a08a0"
      },
      "source": [
        "pd.DataFrame(history1.history).plot(figsize=(8, 5))\n",
        "plt.grid(True)\n",
        "plt.gca().set_ylim(0, 1)\n",
        "plt.show()"
      ],
      "id": "funky-soundtrack",
      "execution_count": null,
      "outputs": [
        {
          "output_type": "display_data",
          "data": {
            "image/png": "[encoded data removed]",
            "text/plain": [
              "<Figure size 576x360 with 1 Axes>"
            ]
          },
          "metadata": {
            "tags": [],
            "needs_background": "light"
          }
        }
      ]
    },
    {
      "cell_type": "code",
      "metadata": {
        "colab": {
          "base_uri": "https://localhost:8080/"
        },
        "id": "veterinary-factor",
        "outputId": "a387f331-445e-4d36-e05c-70e91fb53e5d"
      },
      "source": [
        "y_pred1 = model1.predict(X_test)\n",
        "zo_loss(y_test, y_pred1)"
      ],
      "id": "veterinary-factor",
      "execution_count": null,
      "outputs": [
        {
          "output_type": "execute_result",
          "data": {
            "text/plain": [
              "0.055657436273610854"
            ]
          },
          "metadata": {
            "tags": []
          },
          "execution_count": 37
        }
      ]
    },
    {
      "cell_type": "code",
      "metadata": {
        "colab": {
          "base_uri": "https://localhost:8080/",
          "height": 352
        },
        "id": "axub8t6DpaJX",
        "outputId": "83b3efee-1a47-4354-8e0a-c764c883d0ff"
      },
      "source": [
        "# Plot the loss function\r\n",
        "fig, ax = plt.subplots(1, 1, figsize=(8,5))\r\n",
        "ax.plot(np.sqrt(history1.history['loss']), 'r', label='train')\r\n",
        "ax.plot(np.sqrt(history1.history['val_loss']), 'b' ,label='val')\r\n",
        "ax.set_xlabel(r'Epoch', fontsize=20)\r\n",
        "ax.set_ylabel(r'Loss', fontsize=20)\r\n",
        "ax.legend()\r\n",
        "ax.tick_params(labelsize=20)"
      ],
      "id": "axub8t6DpaJX",
      "execution_count": null,
      "outputs": [
        {
          "output_type": "display_data",
          "data": {
            "image/png": "[encoded data removed]",
            "text/plain": [
              "<Figure size 576x360 with 1 Axes>"
            ]
          },
          "metadata": {
            "tags": [],
            "needs_background": "light"
          }
        }
      ]
    },
    {
      "cell_type": "code",
      "metadata": {
        "colab": {
          "base_uri": "https://localhost:8080/",
          "height": 352
        },
        "id": "ks2G25rrpfaj",
        "outputId": "b6ae601a-0de9-441a-b6d7-fc295aa18347"
      },
      "source": [
        "# Plot the accuracy\r\n",
        "fig, ax = plt.subplots(1, 1, figsize=(8,5))\r\n",
        "ax.plot(np.sqrt(history1.history['accuracy']), 'r', label='train')\r\n",
        "ax.plot(np.sqrt(history1.history['val_accuracy']), 'b' ,label='val')\r\n",
        "ax.set_xlabel(r'Epoch', fontsize=20)\r\n",
        "ax.set_ylabel(r'Accuracy', fontsize=20)\r\n",
        "ax.legend()\r\n",
        "ax.tick_params(labelsize=20)"
      ],
      "id": "ks2G25rrpfaj",
      "execution_count": null,
      "outputs": [
        {
          "output_type": "display_data",
          "data": {
            "image/png": "[encoded data removed]",
            "text/plain": [
              "<Figure size 576x360 with 1 Axes>"
            ]
          },
          "metadata": {
            "tags": [],
            "needs_background": "light"
          }
        }
      ]
    },
    {
      "cell_type": "markdown",
      "metadata": {
        "id": "mineral-above"
      },
      "source": [
        "The batch size defines the number of samples that will be propagated through the network.  \n",
        "For instance, let’s say you have 1000 training samples and you want to set up a batch_size equal to 100. The algorithm takes the first 100 samples (from 1st to 100th) from the training dataset and trains the network. Next, it takes the second 100 samples (from 101st to 200th) and trains the network again. We can keep doing this procedure until we have propagated all samples through the network."
      ],
      "id": "mineral-above"
    },
    {
      "cell_type": "markdown",
      "metadata": {
        "id": "clinical-manufacturer"
      },
      "source": [
        "The number of epochs is a hyperparameter that defines the number times that the learning algorithm will work through the entire training dataset. One epoch means that each sample in the training dataset has had an opportunity to update the internal model parameters. An epoch is comprised of one or more batches."
      ],
      "id": "clinical-manufacturer"
    },
    {
      "cell_type": "code",
      "metadata": {
        "id": "cognitive-barbados"
      },
      "source": [
        "# define the learning rate change \n",
        "def exp_decay(epoch):\n",
        "    lrate = learning_rate * np.exp(-decay_rate*epoch)\n",
        "    return lrate"
      ],
      "id": "cognitive-barbados",
      "execution_count": null,
      "outputs": []
    },
    {
      "cell_type": "code",
      "metadata": {
        "colab": {
          "base_uri": "https://localhost:8080/"
        },
        "id": "careful-leadership",
        "outputId": "089738f2-aa67-47cb-f38e-b8bb202619d6"
      },
      "source": [
        "early_stop = EarlyStopping(monitor='val_accuracy', patience=2)\n",
        "epochs = 30\n",
        "decay_rate = 1e-6\n",
        "momentum = 0.9\n",
        "learning_rate = 0.01\n",
        "sgd = SGD(lr=learning_rate, momentum=momentum, decay=decay_rate, nesterov=True)\n",
        "loss_history = History()\n",
        "lr_rate = LearningRateScheduler(exp_decay)\n",
        "callbacks_list = [loss_history, lr_rate, early_stop]\n",
        "\n",
        "model2 = keras.Sequential()\n",
        "model2.add(keras.layers.Flatten(input_shape=[32, 32, 3]))\n",
        "model2.add(keras.layers.Dense(230, activation=\"relu\"))\n",
        "#model2.add(keras.layers.Dense(100, activation=\"relu\"))\n",
        "model2.add(keras.layers.Dense(10, activation=\"softmax\"))\n",
        "\n",
        "model2.compile(loss = keras.losses.categorical_crossentropy,\n",
        "              optimizer = sgd,\n",
        "              metrics = [\"accuracy\"])\n",
        "\n",
        "model2.summary()"
      ],
      "id": "careful-leadership",
      "execution_count": null,
      "outputs": [
        {
          "output_type": "stream",
          "text": [
            "Model: \"sequential_1\"\n",
            "_________________________________________________________________\n",
            "Layer (type)                 Output Shape              Param #   \n",
            "=================================================================\n",
            "flatten_1 (Flatten)          (None, 3072)              0         \n",
            "_________________________________________________________________\n",
            "dense_3 (Dense)              (None, 230)               706790    \n",
            "_________________________________________________________________\n",
            "dense_4 (Dense)              (None, 10)                2310      \n",
            "=================================================================\n",
            "Total params: 709,100\n",
            "Trainable params: 709,100\n",
            "Non-trainable params: 0\n",
            "_________________________________________________________________\n"
          ],
          "name": "stdout"
        }
      ]
    },
    {
      "cell_type": "code",
      "metadata": {
        "id": "several-figure",
        "colab": {
          "base_uri": "https://localhost:8080/"
        },
        "outputId": "6ecd6b70-7864-4aeb-831f-7cbcc4bc8bd7"
      },
      "source": [
        "%%time\n",
        "\n",
        "model2_history = model2.fit(X_train, y_train, epochs=epochs, \n",
        "                            verbose=1, callbacks=callbacks_list,\n",
        "                            validation_data=(X_val, y_val))"
      ],
      "id": "several-figure",
      "execution_count": null,
      "outputs": [
        {
          "output_type": "stream",
          "text": [
            "Epoch 1/30\n",
            "816/816 [==============================] - 5s 5ms/step - loss: 0.9781 - accuracy: 0.6715 - val_loss: 1.1249 - val_accuracy: 0.7806\n",
            "Epoch 2/30\n",
            "816/816 [==============================] - 4s 5ms/step - loss: 0.1671 - accuracy: 0.9488 - val_loss: 0.0817 - val_accuracy: 0.9727\n",
            "Epoch 3/30\n",
            "816/816 [==============================] - 4s 5ms/step - loss: 0.0695 - accuracy: 0.9779 - val_loss: 0.0273 - val_accuracy: 0.9940\n",
            "Epoch 4/30\n",
            "816/816 [==============================] - 4s 5ms/step - loss: 0.0326 - accuracy: 0.9905 - val_loss: 0.0433 - val_accuracy: 0.9845\n",
            "Epoch 5/30\n",
            "816/816 [==============================] - 4s 5ms/step - loss: 0.0259 - accuracy: 0.9922 - val_loss: 0.0128 - val_accuracy: 0.9965\n",
            "Epoch 6/30\n",
            "816/816 [==============================] - 4s 5ms/step - loss: 0.0144 - accuracy: 0.9960 - val_loss: 0.0045 - val_accuracy: 0.9994\n",
            "Epoch 7/30\n",
            "816/816 [==============================] - 4s 5ms/step - loss: 0.0042 - accuracy: 0.9995 - val_loss: 0.0060 - val_accuracy: 0.9992\n",
            "Epoch 8/30\n",
            "816/816 [==============================] - 4s 5ms/step - loss: 0.0054 - accuracy: 0.9992 - val_loss: 0.0036 - val_accuracy: 0.9998\n",
            "Epoch 9/30\n",
            "816/816 [==============================] - 4s 5ms/step - loss: 0.0020 - accuracy: 0.9999 - val_loss: 0.0023 - val_accuracy: 0.9998\n",
            "Epoch 10/30\n",
            "816/816 [==============================] - 4s 5ms/step - loss: 0.0018 - accuracy: 1.0000 - val_loss: 0.0021 - val_accuracy: 0.9998\n",
            "CPU times: user 58.1 s, sys: 3.54 s, total: 1min 1s\n",
            "Wall time: 40.7 s\n"
          ],
          "name": "stdout"
        }
      ]
    },
    {
      "cell_type": "code",
      "metadata": {
        "colab": {
          "base_uri": "https://localhost:8080/"
        },
        "id": "ongoing-leather",
        "outputId": "94f99109-d149-4885-aaf5-6986b802d7d3"
      },
      "source": [
        "model2.evaluate(X_train, y_train)\n",
        "model2.evaluate(X_test, y_test)"
      ],
      "id": "ongoing-leather",
      "execution_count": null,
      "outputs": [
        {
          "output_type": "stream",
          "text": [
            "816/816 [==============================] - 2s 2ms/step - loss: 0.0014 - accuracy: 1.0000\n",
            "341/341 [==============================] - 1s 2ms/step - loss: 0.1962 - accuracy: 0.9498\n"
          ],
          "name": "stdout"
        },
        {
          "output_type": "execute_result",
          "data": {
            "text/plain": [
              "[0.19624514877796173, 0.9498441219329834]"
            ]
          },
          "metadata": {
            "tags": []
          },
          "execution_count": 31
        }
      ]
    },
    {
      "cell_type": "code",
      "metadata": {
        "colab": {
          "base_uri": "https://localhost:8080/",
          "height": 352
        },
        "id": "nutritional-snake",
        "outputId": "42a9773d-3b4f-451b-b4a8-9c0d879d0a32"
      },
      "source": [
        "# Plot the accuracy\n",
        "fig, ax = plt.subplots(1, 1, figsize=(8,5))\n",
        "ax.plot(np.sqrt(model2_history.history['accuracy']), 'r', label='train')\n",
        "ax.plot(np.sqrt(model2_history.history['val_accuracy']), 'b' ,label='val')\n",
        "ax.set_xlabel(r'Epoch', fontsize=20)\n",
        "ax.set_ylabel(r'Accuracy', fontsize=20)\n",
        "ax.legend()\n",
        "ax.tick_params(labelsize=20)"
      ],
      "id": "nutritional-snake",
      "execution_count": null,
      "outputs": [
        {
          "output_type": "display_data",
          "data": {
            "image/png": "[encoded data removed]",
            "text/plain": [
              "<Figure size 576x360 with 1 Axes>"
            ]
          },
          "metadata": {
            "tags": [],
            "needs_background": "light"
          }
        }
      ]
    },
    {
      "cell_type": "code",
      "metadata": {
        "colab": {
          "base_uri": "https://localhost:8080/"
        },
        "id": "vocal-certificate",
        "outputId": "48c14838-0ae9-46e2-a086-038e36c2c88b"
      },
      "source": [
        "y_pred2 = model2.predict(X_test)\n",
        "zo_loss(y_test, y_pred2)"
      ],
      "id": "vocal-certificate",
      "execution_count": null,
      "outputs": [
        {
          "output_type": "execute_result",
          "data": {
            "text/plain": [
              "0.03585182468366037"
            ]
          },
          "metadata": {
            "tags": []
          },
          "execution_count": 28
        }
      ]
    },
    {
      "cell_type": "markdown",
      "metadata": {
        "id": "olive-championship"
      },
      "source": [
        "Next we will try to change the setup adding regularization terms to the first setup.  "
      ],
      "id": "olive-championship"
    },
    {
      "cell_type": "markdown",
      "metadata": {
        "id": "moved-arabic"
      },
      "source": [
        "### Dropout  \n",
        "At every iteration, it randomly selects some nodes - given a certain probability - and removes them along with all of their incoming and outgoing connections."
      ],
      "id": "moved-arabic"
    },
    {
      "cell_type": "code",
      "metadata": {
        "colab": {
          "base_uri": "https://localhost:8080/"
        },
        "id": "unique-underground",
        "outputId": "e176c4b2-8317-4b96-877b-0ddeb12aea92"
      },
      "source": [
        "model4 = keras.Sequential()\n",
        "model4.add(keras.layers.Flatten(input_shape=[32, 32, 3]))\n",
        "model4.add(keras.layers.Dense(230, activation=\"relu\"))\n",
        "model4.add(keras.layers.Dropout(0.2))\n",
        "model4.add(keras.layers.Dense(100, activation=\"relu\"))\n",
        "model4.add(keras.layers.Dropout(0.2))\n",
        "model4.add(keras.layers.Dense(10, activation=\"softmax\"))\n",
        "\n",
        "model4.compile(loss = keras.losses.categorical_crossentropy,\n",
        "              optimizer = \"sgd\",\n",
        "              metrics = [\"accuracy\"])\n",
        "\n",
        "model4.summary()"
      ],
      "id": "unique-underground",
      "execution_count": null,
      "outputs": [
        {
          "output_type": "stream",
          "text": [
            "Model: \"sequential_4\"\n",
            "_________________________________________________________________\n",
            "Layer (type)                 Output Shape              Param #   \n",
            "=================================================================\n",
            "flatten_4 (Flatten)          (None, 3072)              0         \n",
            "_________________________________________________________________\n",
            "dense_12 (Dense)             (None, 230)               706790    \n",
            "_________________________________________________________________\n",
            "dropout (Dropout)            (None, 230)               0         \n",
            "_________________________________________________________________\n",
            "dense_13 (Dense)             (None, 100)               23100     \n",
            "_________________________________________________________________\n",
            "dropout_1 (Dropout)          (None, 100)               0         \n",
            "_________________________________________________________________\n",
            "dense_14 (Dense)             (None, 10)                1010      \n",
            "=================================================================\n",
            "Total params: 730,900\n",
            "Trainable params: 730,900\n",
            "Non-trainable params: 0\n",
            "_________________________________________________________________\n"
          ],
          "name": "stdout"
        }
      ]
    },
    {
      "cell_type": "code",
      "metadata": {
        "id": "correct-flavor"
      },
      "source": [
        "%%time\n",
        "\n",
        "history4 = model4.fit(X_train, y_train, epochs=30,\n",
        "                      validation_data=(X_val, y_val), verbose = 1,\n",
        "                      callbacks = [EarlyStopping(monitor='val_accuracy', patience=2)])"
      ],
      "id": "correct-flavor",
      "execution_count": null,
      "outputs": []
    },
    {
      "cell_type": "code",
      "metadata": {
        "colab": {
          "base_uri": "https://localhost:8080/"
        },
        "id": "fifty-drill",
        "outputId": "c19942a2-d876-4c99-de3c-e68c87c169d7"
      },
      "source": [
        "print(model4.evaluate(X_train, y_train))\n",
        "print(model4.evaluate(X_test, y_test))"
      ],
      "id": "fifty-drill",
      "execution_count": null,
      "outputs": [
        {
          "output_type": "stream",
          "text": [
            "816/816 [==============================] - 2s 3ms/step - loss: 0.0095 - accuracy: 0.9986\n",
            "[0.009461662732064724, 0.99858158826828]\n",
            "341/341 [==============================] - 1s 3ms/step - loss: 0.1924 - accuracy: 0.9350\n",
            "[0.19243223965168, 0.9349899291992188]\n"
          ],
          "name": "stdout"
        }
      ]
    },
    {
      "cell_type": "code",
      "metadata": {
        "colab": {
          "base_uri": "https://localhost:8080/",
          "height": 341
        },
        "id": "assisted-procedure",
        "outputId": "86c8ce8e-6ad8-4fa8-fadd-21ce9b29456b"
      },
      "source": [
        "pd.DataFrame(history4.history).plot(figsize=(8, 5))\n",
        "plt.grid(True)\n",
        "plt.gca().set_ylim(0, 1)\n",
        "plt.show()\n",
        "\n",
        "y_pred4 = model4.predict(X_test)\n",
        "zo_loss(y_test, y_pred4)"
      ],
      "id": "assisted-procedure",
      "execution_count": null,
      "outputs": [
        {
          "output_type": "display_data",
          "data": {
            "image/png": "[encoded data removed]",
            "text/plain": [
              "<Figure size 576x360 with 1 Axes>"
            ]
          },
          "metadata": {
            "tags": [],
            "needs_background": "light"
          }
        },
        {
          "output_type": "execute_result",
          "data": {
            "text/plain": [
              "0.06501008619108747"
            ]
          },
          "metadata": {
            "tags": []
          },
          "execution_count": 57
        }
      ]
    },
    {
      "cell_type": "markdown",
      "metadata": {
        "id": "surrounded-sheep"
      },
      "source": [
        "Adding the dropout in the final layer slightly improved the model accuracy."
      ],
      "id": "surrounded-sheep"
    },
    {
      "cell_type": "code",
      "metadata": {
        "colab": {
          "base_uri": "https://localhost:8080/"
        },
        "id": "unsigned-washer",
        "outputId": "6ff438a0-1330-4f88-9c7e-ea634a3bc479"
      },
      "source": [
        "model5 = keras.Sequential()\n",
        "model5.add(keras.layers.Flatten(input_shape=[32, 32, 3]))\n",
        "model5.add(keras.layers.Dense(230, activation=\"relu\", kernel_regularizer=regularizers.l2(1e-4)))\n",
        "model5.add(keras.layers.Dense(100, activation=\"relu\", kernel_regularizer=regularizers.l2(1e-4)))\n",
        "model5.add(keras.layers.Dense(10, activation=\"softmax\"))\n",
        "\n",
        "model5.compile(loss = keras.losses.categorical_crossentropy,\n",
        "              optimizer = \"sgd\",\n",
        "              metrics = [\"accuracy\"])\n",
        "\n",
        "model5.summary()"
      ],
      "id": "unsigned-washer",
      "execution_count": null,
      "outputs": [
        {
          "output_type": "stream",
          "text": [
            "Model: \"sequential_5\"\n",
            "_________________________________________________________________\n",
            "Layer (type)                 Output Shape              Param #   \n",
            "=================================================================\n",
            "flatten_5 (Flatten)          (None, 3072)              0         \n",
            "_________________________________________________________________\n",
            "dense_15 (Dense)             (None, 230)               706790    \n",
            "_________________________________________________________________\n",
            "dense_16 (Dense)             (None, 100)               23100     \n",
            "_________________________________________________________________\n",
            "dense_17 (Dense)             (None, 10)                1010      \n",
            "=================================================================\n",
            "Total params: 730,900\n",
            "Trainable params: 730,900\n",
            "Non-trainable params: 0\n",
            "_________________________________________________________________\n"
          ],
          "name": "stdout"
        }
      ]
    },
    {
      "cell_type": "code",
      "metadata": {
        "id": "married-replacement"
      },
      "source": [
        "%%time\n",
        "\n",
        "history5 = model5.fit(X_train, y_train, epochs=30,\n",
        "                      validation_data=(X_val, y_val), verbose = 1,\n",
        "                      callbacks = [EarlyStopping(monitor='val_accuracy', patience=2)])"
      ],
      "id": "married-replacement",
      "execution_count": null,
      "outputs": []
    },
    {
      "cell_type": "code",
      "metadata": {
        "colab": {
          "base_uri": "https://localhost:8080/",
          "height": 411
        },
        "id": "challenging-annotation",
        "outputId": "7b7aceb6-5384-489c-a54f-f4dc68dd7ed5"
      },
      "source": [
        "pd.DataFrame(history5.history).plot(figsize=(8, 5))\n",
        "plt.grid(True)\n",
        "plt.gca().set_ylim(0, 1)\n",
        "plt.show()\n",
        "\n",
        "print(model5.evaluate(X_train, y_train))\n",
        "print(model5.evaluate(X_test, y_test))\n",
        "\n",
        "y_pred5 = model5.predict(X_test)\n",
        "print(zo_loss(y_test, y_pred5))"
      ],
      "id": "challenging-annotation",
      "execution_count": null,
      "outputs": [
        {
          "output_type": "display_data",
          "data": {
            "image/png": "[encoded data removed]",
            "text/plain": [
              "<Figure size 576x360 with 1 Axes>"
            ]
          },
          "metadata": {
            "tags": [],
            "needs_background": "light"
          }
        },
        {
          "output_type": "stream",
          "text": [
            "816/816 [==============================] - 3s 3ms/step - loss: 0.0689 - accuracy: 0.9997\n",
            "[0.06891285628080368, 0.9997316598892212]\n",
            "341/341 [==============================] - 1s 3ms/step - loss: 0.2337 - accuracy: 0.9398\n",
            "[0.23372185230255127, 0.9397579431533813]\n",
            "0.060242068586099394\n"
          ],
          "name": "stdout"
        }
      ]
    },
    {
      "cell_type": "markdown",
      "metadata": {
        "id": "XQ_VkQwT56dd"
      },
      "source": [
        "## ADAM optimizer"
      ],
      "id": "XQ_VkQwT56dd"
    },
    {
      "cell_type": "code",
      "metadata": {
        "colab": {
          "base_uri": "https://localhost:8080/"
        },
        "id": "unsigned-captain",
        "outputId": "24fb612a-c3b3-40b4-dfbb-ca56ab45b409"
      },
      "source": [
        "model6 = keras.Sequential()\r\n",
        "model6.add(keras.layers.Flatten(input_shape=[32, 32, 3]))\r\n",
        "model6.add(keras.layers.Dense(230, activation=\"relu\", kernel_regularizer=regularizers.l2(1e-4)))\r\n",
        "model6.add(keras.layers.Dense(100, activation=\"relu\", kernel_regularizer=regularizers.l2(1e-4)))\r\n",
        "model6.add(keras.layers.Dense(10, activation=\"softmax\"))\r\n",
        "\r\n",
        "model6.compile(loss = keras.losses.categorical_crossentropy,\r\n",
        "              optimizer = \"Adam\",\r\n",
        "              metrics = [\"accuracy\"])\r\n",
        "\r\n",
        "model6.summary()"
      ],
      "id": "unsigned-captain",
      "execution_count": null,
      "outputs": [
        {
          "output_type": "stream",
          "text": [
            "Model: \"sequential_6\"\n",
            "_________________________________________________________________\n",
            "Layer (type)                 Output Shape              Param #   \n",
            "=================================================================\n",
            "flatten_6 (Flatten)          (None, 3072)              0         \n",
            "_________________________________________________________________\n",
            "dense_18 (Dense)             (None, 230)               706790    \n",
            "_________________________________________________________________\n",
            "dense_19 (Dense)             (None, 100)               23100     \n",
            "_________________________________________________________________\n",
            "dense_20 (Dense)             (None, 10)                1010      \n",
            "=================================================================\n",
            "Total params: 730,900\n",
            "Trainable params: 730,900\n",
            "Non-trainable params: 0\n",
            "_________________________________________________________________\n"
          ],
          "name": "stdout"
        }
      ]
    },
    {
      "cell_type": "code",
      "metadata": {
        "colab": {
          "base_uri": "https://localhost:8080/"
        },
        "id": "EH-IxOC26j0n",
        "outputId": "52e00729-3b6c-4981-ae33-c7c58d5be723"
      },
      "source": [
        "%%time\r\n",
        "\r\n",
        "history6 = model6.fit(X_train, y_train, epochs=30,\r\n",
        "                      validation_data=(X_val, y_val), verbose = 1,\r\n",
        "                      callbacks = [EarlyStopping(monitor='val_accuracy', patience=2)])"
      ],
      "id": "EH-IxOC26j0n",
      "execution_count": null,
      "outputs": [
        {
          "output_type": "stream",
          "text": [
            "Epoch 1/30\n",
            "816/816 [==============================] - 8s 9ms/step - loss: 1.0022 - accuracy: 0.6722 - val_loss: 0.3309 - val_accuracy: 0.9032\n",
            "Epoch 2/30\n",
            "816/816 [==============================] - 7s 9ms/step - loss: 0.2047 - accuracy: 0.9476 - val_loss: 0.1355 - val_accuracy: 0.9730\n",
            "Epoch 3/30\n",
            "816/816 [==============================] - 7s 9ms/step - loss: 0.1154 - accuracy: 0.9784 - val_loss: 0.0997 - val_accuracy: 0.9814\n",
            "Epoch 4/30\n",
            "816/816 [==============================] - 7s 9ms/step - loss: 0.1275 - accuracy: 0.9726 - val_loss: 0.0738 - val_accuracy: 0.9942\n",
            "Epoch 5/30\n",
            "816/816 [==============================] - 8s 9ms/step - loss: 0.0971 - accuracy: 0.9853 - val_loss: 0.1037 - val_accuracy: 0.9822\n",
            "Epoch 6/30\n",
            "816/816 [==============================] - 8s 9ms/step - loss: 0.1073 - accuracy: 0.9817 - val_loss: 0.1107 - val_accuracy: 0.9821\n",
            "CPU times: user 1min 10s, sys: 3.16 s, total: 1min 13s\n",
            "Wall time: 45.6 s\n"
          ],
          "name": "stdout"
        }
      ]
    },
    {
      "cell_type": "code",
      "metadata": {
        "colab": {
          "base_uri": "https://localhost:8080/"
        },
        "id": "RMSYllGw7diV",
        "outputId": "f77f4bd6-a487-4687-ad29-ccbbab37e9c0"
      },
      "source": [
        "print(model6.evaluate(X_train, y_train))\r\n",
        "print(model6.evaluate(X_test, y_test))"
      ],
      "id": "RMSYllGw7diV",
      "execution_count": null,
      "outputs": [
        {
          "output_type": "stream",
          "text": [
            "816/816 [==============================] - 3s 4ms/step - loss: 0.1004 - accuracy: 0.9842\n",
            "[0.10042210668325424, 0.984167754650116]\n",
            "341/341 [==============================] - 1s 4ms/step - loss: 0.3085 - accuracy: 0.9126\n",
            "[0.3084639310836792, 0.9126169085502625]\n"
          ],
          "name": "stdout"
        }
      ]
    },
    {
      "cell_type": "code",
      "metadata": {
        "colab": {
          "base_uri": "https://localhost:8080/"
        },
        "id": "tJjwEGAi6sf6",
        "outputId": "8d39a403-8c2f-45c8-bf55-aa4cea6a9939"
      },
      "source": [
        "y_pred6 = model6.predict(X_test)\r\n",
        "print(zo_loss(y_test, y_pred6))"
      ],
      "id": "tJjwEGAi6sf6",
      "execution_count": null,
      "outputs": [
        {
          "output_type": "stream",
          "text": [
            "0.08738309187603155\n"
          ],
          "name": "stdout"
        }
      ]
    },
    {
      "cell_type": "markdown",
      "metadata": {
        "id": "d8_WRdFo-0al"
      },
      "source": [
        "Just one hidden layer"
      ],
      "id": "d8_WRdFo-0al"
    },
    {
      "cell_type": "code",
      "metadata": {
        "colab": {
          "base_uri": "https://localhost:8080/"
        },
        "id": "lLO7INgP-mUZ",
        "outputId": "47d3eb78-649a-4818-c546-02080dddabd5"
      },
      "source": [
        "model7 = keras.Sequential()\r\n",
        "model7.add(keras.layers.Flatten(input_shape=[32, 32, 3]))\r\n",
        "model7.add(keras.layers.Dense(200, activation=\"relu\", kernel_regularizer=regularizers.l2(1e-4)))\r\n",
        "model7.add(keras.layers.Dense(10, activation=\"softmax\"))\r\n",
        "\r\n",
        "model7.compile(loss = keras.losses.categorical_crossentropy,\r\n",
        "              optimizer = \"Adam\",\r\n",
        "              metrics = [\"accuracy\"])\r\n",
        "\r\n",
        "model7.summary()"
      ],
      "id": "lLO7INgP-mUZ",
      "execution_count": null,
      "outputs": [
        {
          "output_type": "stream",
          "text": [
            "Model: \"sequential_7\"\n",
            "_________________________________________________________________\n",
            "Layer (type)                 Output Shape              Param #   \n",
            "=================================================================\n",
            "flatten_7 (Flatten)          (None, 3072)              0         \n",
            "_________________________________________________________________\n",
            "dense_21 (Dense)             (None, 200)               614600    \n",
            "_________________________________________________________________\n",
            "dense_22 (Dense)             (None, 10)                2010      \n",
            "=================================================================\n",
            "Total params: 616,610\n",
            "Trainable params: 616,610\n",
            "Non-trainable params: 0\n",
            "_________________________________________________________________\n"
          ],
          "name": "stdout"
        }
      ]
    },
    {
      "cell_type": "code",
      "metadata": {
        "colab": {
          "base_uri": "https://localhost:8080/"
        },
        "id": "dDU_yekV-ykN",
        "outputId": "7aa17dd4-702f-4403-8d9b-fb73c2c232e0"
      },
      "source": [
        "%%time\r\n",
        "\r\n",
        "history67 = model7.fit(X_train, y_train, epochs=30,\r\n",
        "                      validation_data=(X_val, y_val), verbose = 1,\r\n",
        "                      callbacks = [EarlyStopping(monitor='val_accuracy', patience=2)])"
      ],
      "id": "dDU_yekV-ykN",
      "execution_count": null,
      "outputs": [
        {
          "output_type": "stream",
          "text": [
            "Epoch 1/30\n",
            "816/816 [==============================] - 7s 8ms/step - loss: 0.7256 - accuracy: 0.7726 - val_loss: 0.2786 - val_accuracy: 0.9296\n",
            "Epoch 2/30\n",
            "816/816 [==============================] - 6s 8ms/step - loss: 0.2278 - accuracy: 0.9425 - val_loss: 0.1419 - val_accuracy: 0.9687\n",
            "Epoch 3/30\n",
            "816/816 [==============================] - 6s 7ms/step - loss: 0.1543 - accuracy: 0.9629 - val_loss: 0.1053 - val_accuracy: 0.9814\n",
            "Epoch 4/30\n",
            "816/816 [==============================] - 6s 8ms/step - loss: 0.1042 - accuracy: 0.9817 - val_loss: 0.1752 - val_accuracy: 0.9520\n",
            "Epoch 5/30\n",
            "816/816 [==============================] - 6s 8ms/step - loss: 0.0914 - accuracy: 0.9852 - val_loss: 0.1291 - val_accuracy: 0.9686\n",
            "CPU times: user 47 s, sys: 2.43 s, total: 49.4 s\n",
            "Wall time: 31.3 s\n"
          ],
          "name": "stdout"
        }
      ]
    },
    {
      "cell_type": "code",
      "metadata": {
        "colab": {
          "base_uri": "https://localhost:8080/"
        },
        "id": "CmDeh9yz_fEX",
        "outputId": "1c00a21a-5052-4973-d0db-a7e07ad90d4d"
      },
      "source": [
        "print(model7.evaluate(X_train, y_train))\r\n",
        "print(model7.evaluate(X_test, y_test))"
      ],
      "id": "CmDeh9yz_fEX",
      "execution_count": null,
      "outputs": [
        {
          "output_type": "stream",
          "text": [
            "816/816 [==============================] - 2s 3ms/step - loss: 0.1199 - accuracy: 0.9732\n",
            "[0.1199173778295517, 0.9732040166854858]\n",
            "341/341 [==============================] - 1s 3ms/step - loss: 0.4778 - accuracy: 0.8581\n",
            "[0.4778215289115906, 0.8580597639083862]\n"
          ],
          "name": "stdout"
        }
      ]
    },
    {
      "cell_type": "code",
      "metadata": {
        "colab": {
          "base_uri": "https://localhost:8080/"
        },
        "id": "P0yS34Kk_oJw",
        "outputId": "24b22d06-16cf-4b6c-bec4-687a52765846"
      },
      "source": [
        "y_pred7 = model7.predict(X_test)\r\n",
        "print(zo_loss(y_test, y_pred7))"
      ],
      "id": "P0yS34Kk_oJw",
      "execution_count": null,
      "outputs": [
        {
          "output_type": "stream",
          "text": [
            "0.14194021639464516\n"
          ],
          "name": "stdout"
        }
      ]
    },
    {
      "cell_type": "markdown",
      "metadata": {
        "id": "cGSv4bUVxhk4"
      },
      "source": [
        "## Tuning?"
      ],
      "id": "cGSv4bUVxhk4"
    },
    {
      "cell_type": "code",
      "metadata": {
        "id": "dFPkyvzsAF-m"
      },
      "source": [
        "import numpy as np\r\n",
        "from sklearn.model_selection import GridSearchCV\r\n",
        "from keras.wrappers.scikit_learn import KerasClassifier"
      ],
      "id": "dFPkyvzsAF-m",
      "execution_count": null,
      "outputs": []
    },
    {
      "cell_type": "code",
      "metadata": {
        "id": "Xa6j1Vz1xgO3"
      },
      "source": [
        "def create_model(init_mode='uniform', optimizer = 'adam'):\r\n",
        "    # define model\r\n",
        "    model = Sequential()\r\n",
        "    model.add(keras.layers.Flatten(input_shape=[32, 32, 3]))\r\n",
        "    model.add(Dense(230, kernel_initializer=init_mode, activation=tf.nn.relu)) \r\n",
        "    model.add(Dense(10, kernel_initializer=init_mode, activation=tf.nn.softmax))\r\n",
        "    # compile model\r\n",
        "    model.compile(loss='categorical_crossentropy',\r\n",
        "              optimizer=optimizer,\r\n",
        "              metrics=['accuracy'])\r\n",
        "    return model"
      ],
      "id": "Xa6j1Vz1xgO3",
      "execution_count": null,
      "outputs": []
    },
    {
      "cell_type": "code",
      "metadata": {
        "id": "RYq1VfWa7SXl"
      },
      "source": [
        "epochs = 30\r\n",
        "\r\n",
        "model_CV = KerasClassifier(build_fn=create_model, epochs=epochs, verbose=1)\r\n",
        "\r\n",
        "# define the grid search parameters\r\n",
        "init_mode = ['uniform', 'lecun_uniform', 'normal', 'zero', \r\n",
        "             'glorot_normal', 'glorot_uniform', 'he_normal', 'he_uniform']\r\n",
        "\r\n",
        "optimizer = ['sgd', 'adam', 'rmsprop']\r\n",
        "\r\n",
        "param_grid = dict(init_mode=init_mode, optimizer=optimizer)\r\n",
        "grid = GridSearchCV(estimator=model_CV, param_grid=param_grid, cv=5)\r\n",
        "grid_result = grid.fit(X_train, y_train, callbacks=callbacks_list,\r\n",
        "                            validation_data=(X_val, y_val))"
      ],
      "id": "RYq1VfWa7SXl",
      "execution_count": null,
      "outputs": []
    },
    {
      "cell_type": "code",
      "metadata": {
        "colab": {
          "base_uri": "https://localhost:8080/"
        },
        "id": "LGOYs8XT7tej",
        "outputId": "b0bd38a0-8089-4b5c-9c37-24ba86d459c8"
      },
      "source": [
        "# print results\r\n",
        "print(f'Best Accuracy for {grid_result.best_score_} using {grid_result.best_params_}')\r\n",
        "means = grid_result.cv_results_['mean_test_score']\r\n",
        "stds = grid_result.cv_results_['std_test_score']\r\n",
        "params = grid_result.cv_results_['params']\r\n",
        "for mean, stdev, param in zip(means, stds, params):\r\n",
        "    print(f' mean={mean:.4}, std={stdev:.4} using {param}')"
      ],
      "id": "LGOYs8XT7tej",
      "execution_count": null,
      "outputs": [
        {
          "output_type": "stream",
          "text": [
            "Best Accuracy for 0.988997733592987 using {'init_mode': 'he_normal', 'optimizer': 'sgd'}\n",
            " mean=0.9417, std=0.03161 using {'init_mode': 'uniform', 'optimizer': 'sgd'}\n",
            " mean=0.7414, std=0.1096 using {'init_mode': 'uniform', 'optimizer': 'adam'}\n",
            " mean=0.4876, std=0.1482 using {'init_mode': 'uniform', 'optimizer': 'rmsprop'}\n",
            " mean=0.9664, std=0.01953 using {'init_mode': 'lecun_uniform', 'optimizer': 'sgd'}\n",
            " mean=0.5636, std=0.06311 using {'init_mode': 'lecun_uniform', 'optimizer': 'adam'}\n",
            " mean=0.4892, std=0.03086 using {'init_mode': 'lecun_uniform', 'optimizer': 'rmsprop'}\n",
            " mean=0.9802, std=0.01606 using {'init_mode': 'normal', 'optimizer': 'sgd'}\n",
            " mean=0.5686, std=0.1541 using {'init_mode': 'normal', 'optimizer': 'adam'}\n",
            " mean=0.4361, std=0.03765 using {'init_mode': 'normal', 'optimizer': 'rmsprop'}\n",
            " mean=0.1966, std=0.004865 using {'init_mode': 'zero', 'optimizer': 'sgd'}\n",
            " mean=0.1966, std=0.004865 using {'init_mode': 'zero', 'optimizer': 'adam'}\n",
            " mean=0.1966, std=0.004865 using {'init_mode': 'zero', 'optimizer': 'rmsprop'}\n",
            " mean=0.9766, std=0.01021 using {'init_mode': 'glorot_normal', 'optimizer': 'sgd'}\n",
            " mean=0.7633, std=0.08998 using {'init_mode': 'glorot_normal', 'optimizer': 'adam'}\n",
            " mean=0.4394, std=0.1223 using {'init_mode': 'glorot_normal', 'optimizer': 'rmsprop'}\n",
            " mean=0.9816, std=0.01129 using {'init_mode': 'glorot_uniform', 'optimizer': 'sgd'}\n",
            " mean=0.6875, std=0.2499 using {'init_mode': 'glorot_uniform', 'optimizer': 'adam'}\n",
            " mean=0.4542, std=0.1736 using {'init_mode': 'glorot_uniform', 'optimizer': 'rmsprop'}\n",
            " mean=0.989, std=0.008306 using {'init_mode': 'he_normal', 'optimizer': 'sgd'}\n",
            " mean=0.8125, std=0.09585 using {'init_mode': 'he_normal', 'optimizer': 'adam'}\n",
            " mean=0.4283, std=0.1683 using {'init_mode': 'he_normal', 'optimizer': 'rmsprop'}\n",
            " mean=0.9855, std=0.0099 using {'init_mode': 'he_uniform', 'optimizer': 'sgd'}\n",
            " mean=0.67, std=0.1792 using {'init_mode': 'he_uniform', 'optimizer': 'adam'}\n",
            " mean=0.3915, std=0.08127 using {'init_mode': 'he_uniform', 'optimizer': 'rmsprop'}\n"
          ],
          "name": "stdout"
        }
      ]
    },
    {
      "cell_type": "code",
      "metadata": {
        "colab": {
          "base_uri": "https://localhost:8080/"
        },
        "id": "Wo0Y6sXpVhWA",
        "outputId": "5bf6b40d-ecc4-42ea-feff-13394e9081db"
      },
      "source": [
        "tuned_model = keras.Sequential()\r\n",
        "tuned_model.add(keras.layers.Flatten(input_shape=[32, 32, 3]))\r\n",
        "tuned_model.add(keras.layers.Dense(230, kernel_initializer= 'he_normal',  activation=\"relu\"))\r\n",
        "tuned_model.add(keras.layers.Dense(10, kernel_initializer= 'he_normal', activation=\"softmax\"))\r\n",
        "\r\n",
        "tuned_model.compile(loss = keras.losses.categorical_crossentropy,\r\n",
        "              optimizer = sgd,\r\n",
        "              metrics = [\"accuracy\"])\r\n",
        "\r\n",
        "tuned_model.summary()"
      ],
      "id": "Wo0Y6sXpVhWA",
      "execution_count": null,
      "outputs": [
        {
          "output_type": "stream",
          "text": [
            "Model: \"sequential_127\"\n",
            "_________________________________________________________________\n",
            "Layer (type)                 Output Shape              Param #   \n",
            "=================================================================\n",
            "flatten_127 (Flatten)        (None, 3072)              0         \n",
            "_________________________________________________________________\n",
            "dense_255 (Dense)            (None, 230)               706790    \n",
            "_________________________________________________________________\n",
            "dense_256 (Dense)            (None, 10)                2310      \n",
            "=================================================================\n",
            "Total params: 709,100\n",
            "Trainable params: 709,100\n",
            "Non-trainable params: 0\n",
            "_________________________________________________________________\n"
          ],
          "name": "stdout"
        }
      ]
    },
    {
      "cell_type": "code",
      "metadata": {
        "colab": {
          "base_uri": "https://localhost:8080/"
        },
        "id": "vdS4hMjgWF-g",
        "outputId": "41e21b9b-6c27-44fd-e2fb-27197d07e4c9"
      },
      "source": [
        "%%time\r\n",
        "\r\n",
        "tuned_model_history = tuned_model.fit(X_train, y_train, epochs=epochs, \r\n",
        "                            verbose=1, callbacks=callbacks_list,\r\n",
        "                            validation_data=(X_val, y_val))"
      ],
      "id": "vdS4hMjgWF-g",
      "execution_count": null,
      "outputs": [
        {
          "output_type": "stream",
          "text": [
            "Epoch 1/30\n",
            "816/816 [==============================] - 5s 5ms/step - loss: 1.0026 - accuracy: 0.6643 - val_loss: 0.4820 - val_accuracy: 0.8252\n",
            "Epoch 2/30\n",
            "816/816 [==============================] - 4s 5ms/step - loss: 0.1644 - accuracy: 0.9460 - val_loss: 0.0985 - val_accuracy: 0.9656\n",
            "Epoch 3/30\n",
            "816/816 [==============================] - 4s 5ms/step - loss: 0.0679 - accuracy: 0.9802 - val_loss: 0.0474 - val_accuracy: 0.9867\n",
            "Epoch 4/30\n",
            "816/816 [==============================] - 4s 5ms/step - loss: 0.0403 - accuracy: 0.9881 - val_loss: 0.0461 - val_accuracy: 0.9844\n",
            "Epoch 5/30\n",
            "816/816 [==============================] - 4s 5ms/step - loss: 0.0321 - accuracy: 0.9899 - val_loss: 0.0083 - val_accuracy: 0.9983\n",
            "Epoch 6/30\n",
            "816/816 [==============================] - 4s 5ms/step - loss: 0.0159 - accuracy: 0.9953 - val_loss: 0.0076 - val_accuracy: 0.9982\n",
            "Epoch 7/30\n",
            "816/816 [==============================] - 4s 5ms/step - loss: 0.0081 - accuracy: 0.9982 - val_loss: 0.0076 - val_accuracy: 0.9988\n",
            "Epoch 8/30\n",
            "816/816 [==============================] - 4s 5ms/step - loss: 0.0086 - accuracy: 0.9978 - val_loss: 0.0046 - val_accuracy: 0.9995\n",
            "Epoch 9/30\n",
            "816/816 [==============================] - 4s 5ms/step - loss: 0.0040 - accuracy: 0.9993 - val_loss: 0.0076 - val_accuracy: 0.9989\n",
            "Epoch 10/30\n",
            "816/816 [==============================] - 4s 5ms/step - loss: 0.0027 - accuracy: 0.9998 - val_loss: 0.0017 - val_accuracy: 1.0000\n",
            "Epoch 11/30\n",
            "816/816 [==============================] - 4s 5ms/step - loss: 0.0012 - accuracy: 1.0000 - val_loss: 0.0027 - val_accuracy: 0.9998\n",
            "Epoch 12/30\n",
            "816/816 [==============================] - 4s 5ms/step - loss: 0.0011 - accuracy: 1.0000 - val_loss: 0.0015 - val_accuracy: 1.0000\n",
            "CPU times: user 1min 11s, sys: 4.36 s, total: 1min 15s\n",
            "Wall time: 49.5 s\n"
          ],
          "name": "stdout"
        }
      ]
    },
    {
      "cell_type": "code",
      "metadata": {
        "colab": {
          "base_uri": "https://localhost:8080/"
        },
        "id": "GeJB0SaXWLTm",
        "outputId": "85fa9880-5666-4f0e-ca9f-2ad299bbf2e6"
      },
      "source": [
        "tuned_model.evaluate(X_train, y_train)\r\n",
        "tuned_model.evaluate(X_test, y_test)"
      ],
      "id": "GeJB0SaXWLTm",
      "execution_count": null,
      "outputs": [
        {
          "output_type": "stream",
          "text": [
            "816/816 [==============================] - 2s 2ms/step - loss: 0.0012 - accuracy: 0.9999\n",
            "341/341 [==============================] - 1s 3ms/step - loss: 0.2113 - accuracy: 0.9454\n"
          ],
          "name": "stdout"
        },
        {
          "output_type": "execute_result",
          "data": {
            "text/plain": [
              "[0.21134145557880402, 0.9454428553581238]"
            ]
          },
          "metadata": {
            "tags": []
          },
          "execution_count": 52
        }
      ]
    },
    {
      "cell_type": "code",
      "metadata": {
        "colab": {
          "base_uri": "https://localhost:8080/"
        },
        "id": "9VWTAkk6WKxU",
        "outputId": "110db1e4-0742-4be2-9655-d877d3873c5e"
      },
      "source": [
        "y_pred_tun = tuned_model.predict(X_test)\r\n",
        "zo_loss(y_test, y_pred_tun)"
      ],
      "id": "9VWTAkk6WKxU",
      "execution_count": null,
      "outputs": [
        {
          "output_type": "execute_result",
          "data": {
            "text/plain": [
              "0.05455712451861361"
            ]
          },
          "metadata": {
            "tags": []
          },
          "execution_count": 53
        }
      ]
    }
  ]
}