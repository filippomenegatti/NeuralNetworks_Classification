{
  "nbformat": 4,
  "nbformat_minor": 5,
  "metadata": {
    "kernelspec": {
      "display_name": "Python 3",
      "language": "python",
      "name": "python3"
    },
    "language_info": {
      "codemirror_mode": {
        "name": "ipython",
        "version": 3
      },
      "file_extension": ".py",
      "mimetype": "text/x-python",
      "name": "python",
      "nbconvert_exporter": "python",
      "pygments_lexer": "ipython3",
      "version": "3.7.9"
    },
    "colab": {
      "name": "ML_assignment.ipynb",
      "provenance": [],
      "collapsed_sections": [
        "lQj2x2U1AeLm",
        "LkEoRHoWoaqR",
        "eBrHUH5ABz7-",
        "2vF3pouC6awN"
      ],
      "include_colab_link": true
    }
  },
  "cells": [
    {
      "cell_type": "markdown",
      "metadata": {
        "id": "view-in-github",
        "colab_type": "text"
      },
      "source": [
        "<a href=\"https://colab.research.google.com/github/filippomenegatti/NeuralNetwork_ClassificationProj/blob/main/Script.ipynb\" target=\"_parent\"><img src=\"https://colab.research.google.com/assets/colab-badge.svg\" alt=\"Open In Colab\"/></a>"
      ]
    },
    {
      "cell_type": "markdown",
      "metadata": {
        "id": "surprising-arena"
      },
      "source": [
        "# Image classification with Neural Networks\n",
        "Use `tensorflow` to train neural networks for the classification of fruit/vegetable types based on images from this dataset. Images must be transformed from JPG to RGB pixel values and scaled down (e.g., 32x32).  \n",
        "Use fruit/vegetable types (as opposed to variety) as labels to predict and consider only the 10 most frequent types (apple, banana, plum, pepper, cherry, grape, tomato, potato, pear, peach).  \n",
        "Experiment with different network architectures and training parameters documenting their influence of the final predictive performance. While the training loss can be chosen freely, the reported test errors must be measured according to the zero-one loss for multiclass classification."
      ],
      "id": "surprising-arena"
    },
    {
      "cell_type": "markdown",
      "metadata": {
        "id": "pPGqDSbLtHjF"
      },
      "source": [
        "# Introduction\n",
        "\n",
        "In these essay we are going to analyse the dataset available on Kaggle website [1] under the license CC BY-SA 4.0, using a Deep Learning approach. The dataset contains 90380 images of 131 fruits and vegetables divided in folders for training and test set respectively. We are going to select just a subsample of the available fruits creating 10 macrocategories with the most frequent types. Different Neural Networks architectures will be compared, starting from different settings of the \"basic\" Feedforward Neural Network and concluding with a Convolutional Neural Network model.\n",
        "\n"
      ],
      "id": "pPGqDSbLtHjF"
    },
    {
      "cell_type": "markdown",
      "metadata": {
        "id": "KMW1FQJJPHL6"
      },
      "source": [
        "# Setting up the environment"
      ],
      "id": "KMW1FQJJPHL6"
    },
    {
      "cell_type": "markdown",
      "metadata": {
        "id": "RV1EUeCFPm2f"
      },
      "source": [
        "In this session we are going to set up our working environment installing the dependencies needed to download the dataset from kaggle and importing the libraries that will be used in the analysis."
      ],
      "id": "RV1EUeCFPm2f"
    },
    {
      "cell_type": "code",
      "metadata": {
        "id": "OZkHiGu_Gu12",
        "colab": {
          "base_uri": "https://localhost:8080/"
        },
        "outputId": "4cfad150-9e48-4d23-f466-7a38b4eecea9"
      },
      "source": [
        "from google.colab import drive\n",
        "drive.mount('/content/drive')"
      ],
      "id": "OZkHiGu_Gu12",
      "execution_count": null,
      "outputs": [
        {
          "output_type": "stream",
          "text": [
            "Mounted at /content/drive\n"
          ],
          "name": "stdout"
        }
      ]
    },
    {
      "cell_type": "code",
      "metadata": {
        "id": "qYn4zn5hkL77",
        "colab": {
          "resources": {
            "http://localhost:8080/nbextensions/google.colab/files.js": {
              "data": "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",
              "ok": true,
              "headers": [
                [
                  "content-type",
                  "application/javascript"
                ]
              ],
              "status": 200,
              "status_text": ""
            }
          },
          "base_uri": "https://localhost:8080/",
          "height": 91
        },
        "outputId": "721730a6-7109-4fa1-9cc5-aa5dd285c457"
      },
      "source": [
        "from google.colab import files\n",
        "\n",
        "files.upload() #import the kaggle.json file"
      ],
      "id": "qYn4zn5hkL77",
      "execution_count": null,
      "outputs": [
        {
          "output_type": "display_data",
          "data": {
            "text/html": [
              "\n",
              "     <input type=\"file\" id=\"files-fbba38c5-e1d1-49b0-b15d-8bb98368780f\" name=\"files[]\" multiple disabled\n",
              "        style=\"border:none\" />\n",
              "     <output id=\"result-fbba38c5-e1d1-49b0-b15d-8bb98368780f\">\n",
              "      Upload widget is only available when the cell has been executed in the\n",
              "      current browser session. Please rerun this cell to enable.\n",
              "      </output>\n",
              "      <script src=\"/nbextensions/google.colab/files.js\"></script> "
            ],
            "text/plain": [
              "<IPython.core.display.HTML object>"
            ]
          },
          "metadata": {
            "tags": []
          }
        },
        {
          "output_type": "stream",
          "text": [
            "Saving kaggle.json to kaggle.json\n"
          ],
          "name": "stdout"
        },
        {
          "output_type": "execute_result",
          "data": {
            "text/plain": [
              "{'kaggle.json': b'{\"username\":\"filippomenegatti\",\"key\":\"edbf8396c254a2e275c3317efacf9f85\"}'}"
            ]
          },
          "metadata": {
            "tags": []
          },
          "execution_count": 1
        }
      ]
    },
    {
      "cell_type": "code",
      "metadata": {
        "id": "qZChZTy2kLzb"
      },
      "source": [
        "!pip install -q kaggle\n",
        "!mkdir ~/.kaggle\n",
        "!cp kaggle.json ~/.kaggle/\n",
        "!chmod 600 ~/.kaggle/kaggle.json\n",
        "!kaggle datasets download -d moltean/fruits\n",
        "!mkdir ML_assignment\n",
        "!unzip fruits.zip -d ML_assignment"
      ],
      "id": "qZChZTy2kLzb",
      "execution_count": null,
      "outputs": []
    },
    {
      "cell_type": "code",
      "metadata": {
        "id": "serious-privilege"
      },
      "source": [
        "import os\n",
        "import random\n",
        "import numpy as np\n",
        "import matplotlib.pyplot as plt\n",
        "import pandas as pd\n",
        "\n",
        "from sklearn.utils import shuffle\n",
        "from sklearn.model_selection import train_test_split\n",
        "from sklearn.model_selection import GridSearchCV, RandomizedSearchCV, KFold\n",
        "\n",
        "\n",
        "import tensorflow as tf\n",
        "from tensorflow import keras\n",
        "from keras.preprocessing.image import array_to_img, img_to_array, load_img\n",
        "from keras.utils import np_utils\n",
        "from keras.models import Sequential, Model\n",
        "from keras.layers import Dense, Flatten, Dropout, Conv2D, MaxPool2D, Activation, MaxPooling2D, Input, AveragePooling2D, GlobalAveragePooling2D\n",
        "from keras.losses import categorical_crossentropy\n",
        "from keras.optimizers import Adam, SGD, RMSprop, Adamax\n",
        "from keras import regularizers\n",
        "from keras.callbacks import LearningRateScheduler, History, EarlyStopping\n",
        "from keras.wrappers.scikit_learn import KerasClassifier\n",
        "\n",
        "print('The Tensorflow version used is: ' + tf.__version__)\n",
        "print('The Keras version used is: ' + keras.__version__)"
      ],
      "id": "serious-privilege",
      "execution_count": 1,
      "outputs": []
    },
    {
      "cell_type": "code",
      "metadata": {
        "id": "underlying-australian"
      },
      "source": [
        "seed = 33\n",
        "random.seed(seed)\n",
        "tf.random.set_seed(seed)"
      ],
      "id": "underlying-australian",
      "execution_count": null,
      "outputs": []
    },
    {
      "cell_type": "markdown",
      "metadata": {
        "id": "LkEoRHoWoaqR"
      },
      "source": [
        "# Dataset preprocessing"
      ],
      "id": "LkEoRHoWoaqR"
    },
    {
      "cell_type": "markdown",
      "metadata": {
        "id": "SEYRRYvKREB4"
      },
      "source": [
        "In this section we are going to divide the downloaded dataset into the ten macro-categories requested: Apple, Banana, Plum, Pepper, Cherry, Grape, Tomato, Potato, Pear, Peach.  \n",
        "The images are sized down from 100x100x3 to 32x32x3."
      ],
      "id": "SEYRRYvKREB4"
    },
    {
      "cell_type": "code",
      "metadata": {
        "id": "written-powell"
      },
      "source": [
        "file_path = '/content/ML_assignment/fruits-360'"
      ],
      "id": "written-powell",
      "execution_count": null,
      "outputs": []
    },
    {
      "cell_type": "code",
      "metadata": {
        "id": "breeding-flooring"
      },
      "source": [
        "types = [\"Apple\", \"Banana\", \"Plum\", \"Pepper\", \"Cherry\", \"Grape\", \"Tomato\", \"Potato\", \"Pear\", \"Peach\"]\n",
        "\n",
        "fruits = {}\n",
        "\n",
        "def load_dataset(dire):\n",
        "    fruits = {}\n",
        "    images_as_array = []\n",
        "    labels =[]\n",
        "    for category in os.listdir(dire):\n",
        "        for typ in types:\n",
        "            if(category.split()[0] == typ):\n",
        "                fruits[category]= typ\n",
        "                path = os.path.join(dire,category)\n",
        "                class_num =types.index(fruits[category])\n",
        "\n",
        "                class_name = fruits[category]\n",
        "                for img in os.listdir(path):\n",
        "                    file = os.path.join(path,img)\n",
        "                    images_as_array.append(img_to_array(load_img(file,target_size=(32, 32))))\n",
        "                    labels.append(class_num)\n",
        "    images_as_array =  np.array(images_as_array)\n",
        "    labels = np.array(labels)\n",
        "    return images_as_array, labels"
      ],
      "id": "breeding-flooring",
      "execution_count": null,
      "outputs": []
    },
    {
      "cell_type": "code",
      "metadata": {
        "id": "cubic-worthy"
      },
      "source": [
        "train_path= '/content/ML_assignment/fruits-360/Training'\n",
        "test_path= '/content/ML_assignment/fruits-360/Test'"
      ],
      "id": "cubic-worthy",
      "execution_count": null,
      "outputs": []
    },
    {
      "cell_type": "code",
      "metadata": {
        "id": "varied-metropolitan"
      },
      "source": [
        "train = load_dataset(train_path)\n",
        "test = load_dataset(test_path)"
      ],
      "id": "varied-metropolitan",
      "execution_count": null,
      "outputs": []
    },
    {
      "cell_type": "code",
      "metadata": {
        "id": "filled-connection"
      },
      "source": [
        "X_train, y_train = train\n",
        "X_test, y_test = test"
      ],
      "id": "filled-connection",
      "execution_count": null,
      "outputs": []
    },
    {
      "cell_type": "code",
      "metadata": {
        "id": "later-mainland"
      },
      "source": [
        "X_train, y_train = shuffle(X_train, y_train)\n",
        "X_test, y_test = shuffle(X_test, y_test)"
      ],
      "id": "later-mainland",
      "execution_count": null,
      "outputs": []
    },
    {
      "cell_type": "code",
      "metadata": {
        "colab": {
          "base_uri": "https://localhost:8080/"
        },
        "id": "above-wesley",
        "outputId": "4f9d4143-4b6b-45ab-98ce-540f354f4df0"
      },
      "source": [
        "print(X_train.shape)\n",
        "print(X_test.shape)"
      ],
      "id": "above-wesley",
      "execution_count": null,
      "outputs": [
        {
          "output_type": "stream",
          "text": [
            "(32607, 32, 32, 3)\n",
            "(10906, 32, 32, 3)\n"
          ],
          "name": "stdout"
        }
      ]
    },
    {
      "cell_type": "code",
      "metadata": {
        "colab": {
          "base_uri": "https://localhost:8080/"
        },
        "id": "simplified-jamaica",
        "outputId": "39621a2f-19f6-4115-feb5-d8b11060d3eb"
      },
      "source": [
        "n_classes = len(np.unique(y_train))\n",
        "n_classes"
      ],
      "id": "simplified-jamaica",
      "execution_count": null,
      "outputs": [
        {
          "output_type": "execute_result",
          "data": {
            "text/plain": [
              "10"
            ]
          },
          "metadata": {
            "tags": []
          },
          "execution_count": 12
        }
      ]
    },
    {
      "cell_type": "markdown",
      "metadata": {
        "id": "SdrJIdSuhZGt"
      },
      "source": [
        "We are now going to plot the frequency of the different classes in Test and Training set, so to control if they are balanced."
      ],
      "id": "SdrJIdSuhZGt"
    },
    {
      "cell_type": "code",
      "metadata": {
        "colab": {
          "base_uri": "https://localhost:8080/",
          "height": 319
        },
        "id": "referenced-helicopter",
        "outputId": "5c0e1788-27d1-410a-a0cb-bb05ad9e412e"
      },
      "source": [
        "#look at the distribution of the classes in the sets\n",
        "\n",
        "unique, counts = np.unique(y_train, return_counts=True)\n",
        "plt.bar(types, counts)\n",
        "\n",
        "unique, counts = np.unique(y_test, return_counts=True)\n",
        "plt.bar(types, counts)\n",
        "\n",
        "plt.xticks(rotation=45)\n",
        "plt.gca().legend(('y_train','y_test'))\n",
        "plt.title('Class Frequency')\n",
        "plt.xlabel('Class')\n",
        "plt.ylabel('Frequency')\n",
        "\n",
        "plt.show()"
      ],
      "id": "referenced-helicopter",
      "execution_count": null,
      "outputs": [
        {
          "output_type": "display_data",
          "data": {
            "image/png": "[encoded data removed]",
            "text/plain": [
              "<Figure size 432x288 with 1 Axes>"
            ]
          },
          "metadata": {
            "tags": [],
            "needs_background": "light"
          }
        }
      ]
    },
    {
      "cell_type": "markdown",
      "metadata": {
        "id": "ndktb9U7bQGT"
      },
      "source": [
        "Since the starting dataset is already divided into Training set and Test set, so we are going to proceed dividing the Training one into a Validation (or Development) set, that will be used to tune the hyperparameters of the model and for calculating the Validation Accuracy, which will be our benchmark for the \"Early Stopping\" of the model. The Validation set is set to be 20% of the size of the Training."
      ],
      "id": "ndktb9U7bQGT"
    },
    {
      "cell_type": "code",
      "metadata": {
        "id": "widespread-joshua"
      },
      "source": [
        "X_val, X_train, y_val, y_train  = train_test_split(X_train, y_train, train_size = 0.20)"
      ],
      "id": "widespread-joshua",
      "execution_count": null,
      "outputs": []
    },
    {
      "cell_type": "markdown",
      "metadata": {
        "id": "21NfDjDhuVDK"
      },
      "source": [
        "After dividing the sets we are going to divide the features by 255, because the pixel intensity of each color channel is represented as a byte which goes from 0 to 255. In this way we obtain floats ranging from 0 to 1."
      ],
      "id": "21NfDjDhuVDK"
    },
    {
      "cell_type": "code",
      "metadata": {
        "id": "palestinian-wallpaper"
      },
      "source": [
        "X_train = X_train.astype('float32')/255\n",
        "X_test = X_test.astype('float32')/255\n",
        "X_val = X_val.astype('float32')/255"
      ],
      "id": "palestinian-wallpaper",
      "execution_count": null,
      "outputs": []
    },
    {
      "cell_type": "code",
      "metadata": {
        "colab": {
          "base_uri": "https://localhost:8080/"
        },
        "id": "ideal-butler",
        "outputId": "ee2b151d-5533-4474-f624-1e4649e439c4"
      },
      "source": [
        "print('Training X:\\n',X_train.shape)\n",
        "print('\\nVaildation X:\\n',X_val.shape)\n",
        "print('\\nTest X:\\n',X_test.shape)"
      ],
      "id": "ideal-butler",
      "execution_count": null,
      "outputs": [
        {
          "output_type": "stream",
          "text": [
            "Training X:\n",
            " (26086, 32, 32, 3)\n",
            "\n",
            "Vaildation X:\n",
            " (6521, 32, 32, 3)\n",
            "\n",
            "Test X:\n",
            " (10906, 32, 32, 3)\n"
          ],
          "name": "stdout"
        }
      ]
    },
    {
      "cell_type": "code",
      "metadata": {
        "colab": {
          "base_uri": "https://localhost:8080/",
          "height": 292
        },
        "id": "signed-graphics",
        "outputId": "70c514e6-e4ac-4f4f-83e0-9249300d6aaa"
      },
      "source": [
        "n_rows = 3\n",
        "n_cols = 6\n",
        "plt.figure(figsize=(n_cols * 1.5, n_rows * 1.5))\n",
        "for row in range(n_rows):\n",
        "    for col in range(n_cols):\n",
        "        index = n_cols * row + col\n",
        "        plt.subplot(n_rows, n_cols, index + 1)\n",
        "        plt.imshow(X_train[index], cmap=\"binary\", interpolation=\"nearest\")\n",
        "        plt.axis('off')\n",
        "        plt.title(types[y_train[index]], fontsize=12)\n",
        "plt.subplots_adjust(wspace=0.2, hspace=0.5)\n",
        "plt.show()"
      ],
      "id": "signed-graphics",
      "execution_count": null,
      "outputs": [
        {
          "output_type": "display_data",
          "data": {
            "image/png": "[encoded data removed]",
            "text/plain": [
              "<Figure size 648x324 with 18 Axes>"
            ]
          },
          "metadata": {
            "tags": [],
            "needs_background": "light"
          }
        }
      ]
    },
    {
      "cell_type": "code",
      "metadata": {
        "id": "lovely-health"
      },
      "source": [
        "y_train = np_utils.to_categorical(y_train, n_classes)\n",
        "y_val = np_utils.to_categorical(y_val, n_classes)\n",
        "y_test = np_utils.to_categorical(y_test, n_classes)"
      ],
      "id": "lovely-health",
      "execution_count": null,
      "outputs": []
    },
    {
      "cell_type": "markdown",
      "metadata": {
        "id": "native-physiology"
      },
      "source": [
        "As requested for this project, the final loss function will be the zero one loss, designed as follow:"
      ],
      "id": "native-physiology"
    },
    {
      "cell_type": "code",
      "metadata": {
        "id": "rough-mason"
      },
      "source": [
        "def zo_loss(test, pred):\n",
        "    y_hat = []\n",
        "    y_t = []\n",
        "    for i in range(len(pred)):\n",
        "        y_hat.append(np.argmax(pred[i]))\n",
        "        y_t.append(np.argmax(test[i]))\n",
        "\n",
        "   \n",
        "    loss = []\n",
        "    for i in range(len(pred)):\n",
        "        if(y_hat[i] == y_t[i]):\n",
        "            loss.append(0)\n",
        "        else:\n",
        "            loss.append(1)\n",
        "\n",
        "\n",
        "    return np.mean(loss)"
      ],
      "id": "rough-mason",
      "execution_count": null,
      "outputs": []
    },
    {
      "cell_type": "markdown",
      "metadata": {
        "id": "supposed-married"
      },
      "source": [
        "# First try *standard* architecture"
      ],
      "id": "supposed-married"
    },
    {
      "cell_type": "code",
      "metadata": {
        "colab": {
          "base_uri": "https://localhost:8080/"
        },
        "id": "qualified-florence",
        "outputId": "96485fd8-d2e0-4c37-8a6d-dd46c0eb8264"
      },
      "source": [
        "model1 = keras.Sequential()\n",
        "model1.add(keras.layers.Flatten(input_shape=[32, 32, 3]))\n",
        "model1.add(keras.layers.Dense(1000, activation=\"relu\"))\n",
        "model1.add(keras.layers.Dense(400, activation=\"relu\"))\n",
        "model1.add(keras.layers.Dense(10, activation=\"softmax\"))\n",
        "\n",
        "model1.compile(loss = keras.losses.categorical_crossentropy,\n",
        "              optimizer = \"sgd\",\n",
        "              metrics = [\"accuracy\"])\n",
        "\n",
        "model1.summary()"
      ],
      "id": "qualified-florence",
      "execution_count": null,
      "outputs": [
        {
          "output_type": "stream",
          "text": [
            "Model: \"sequential_1\"\n",
            "_________________________________________________________________\n",
            "Layer (type)                 Output Shape              Param #   \n",
            "=================================================================\n",
            "flatten_1 (Flatten)          (None, 3072)              0         \n",
            "_________________________________________________________________\n",
            "dense_2 (Dense)              (None, 1000)              3073000   \n",
            "_________________________________________________________________\n",
            "dense_3 (Dense)              (None, 400)               400400    \n",
            "_________________________________________________________________\n",
            "dense_4 (Dense)              (None, 10)                4010      \n",
            "=================================================================\n",
            "Total params: 3,477,410\n",
            "Trainable params: 3,477,410\n",
            "Non-trainable params: 0\n",
            "_________________________________________________________________\n"
          ],
          "name": "stdout"
        }
      ]
    },
    {
      "cell_type": "markdown",
      "metadata": {
        "id": "arctic-former"
      },
      "source": [
        "Fitting of the model"
      ],
      "id": "arctic-former"
    },
    {
      "cell_type": "code",
      "metadata": {
        "id": "infrared-event"
      },
      "source": [
        "%%time\n",
        "\n",
        "history1 = model1.fit(X_train, y_train, epochs=30,\n",
        "                    validation_data=(X_val, y_val), \n",
        "                    verbose = 1, \n",
        "                    callbacks = [EarlyStopping(monitor='val_accuracy', patience=5, restore_best_weights=True)]\n",
        "                    )"
      ],
      "id": "infrared-event",
      "execution_count": null,
      "outputs": []
    },
    {
      "cell_type": "code",
      "metadata": {
        "colab": {
          "base_uri": "https://localhost:8080/"
        },
        "id": "atomic-developer",
        "outputId": "4d320e21-996f-4b0d-9428-ac9e4d084d69"
      },
      "source": [
        "model1.evaluate(X_train, y_train)\n",
        "model1.evaluate(X_test, y_test)"
      ],
      "id": "atomic-developer",
      "execution_count": null,
      "outputs": [
        {
          "output_type": "stream",
          "text": [
            "816/816 [==============================] - 3s 3ms/step - loss: 0.0073 - accuracy: 0.9999\n",
            "341/341 [==============================] - 1s 3ms/step - loss: 0.1655 - accuracy: 0.9442\n"
          ],
          "name": "stdout"
        },
        {
          "output_type": "execute_result",
          "data": {
            "text/plain": [
              "[0.16553333401679993, 0.9441591501235962]"
            ]
          },
          "metadata": {
            "tags": []
          },
          "execution_count": 26
        }
      ]
    },
    {
      "cell_type": "code",
      "metadata": {
        "colab": {
          "base_uri": "https://localhost:8080/",
          "height": 324
        },
        "id": "funky-soundtrack",
        "outputId": "c8650c15-7256-4691-99a1-3b093ba5b146"
      },
      "source": [
        "pd.DataFrame(history1.history).plot(figsize=(8, 5))\n",
        "plt.grid(True)\n",
        "plt.gca().set_ylim(0, 1)\n",
        "plt.show()"
      ],
      "id": "funky-soundtrack",
      "execution_count": null,
      "outputs": [
        {
          "output_type": "display_data",
          "data": {
            "image/png": "[encoded data removed]",
            "text/plain": [
              "<Figure size 576x360 with 1 Axes>"
            ]
          },
          "metadata": {
            "tags": [],
            "needs_background": "light"
          }
        }
      ]
    },
    {
      "cell_type": "code",
      "metadata": {
        "colab": {
          "base_uri": "https://localhost:8080/"
        },
        "id": "veterinary-factor",
        "outputId": "74706e08-5f58-4c1d-88fc-67f03ea66bbc"
      },
      "source": [
        "y_pred1 = model1.predict(X_test)\n",
        "zo_loss(y_test, y_pred1)"
      ],
      "id": "veterinary-factor",
      "execution_count": null,
      "outputs": [
        {
          "output_type": "execute_result",
          "data": {
            "text/plain": [
              "0.0558408215661104"
            ]
          },
          "metadata": {
            "tags": []
          },
          "execution_count": 28
        }
      ]
    },
    {
      "cell_type": "markdown",
      "metadata": {
        "id": "mineral-above"
      },
      "source": [
        "The batch size defines the number of samples that will be propagated through the network.  \n",
        "For instance, let’s say you have 1000 training samples and you want to set up a batch_size equal to 100. The algorithm takes the first 100 samples (from 1st to 100th) from the training dataset and trains the network. Next, it takes the second 100 samples (from 101st to 200th) and trains the network again. We can keep doing this procedure until we have propagated all samples through the network."
      ],
      "id": "mineral-above"
    },
    {
      "cell_type": "markdown",
      "metadata": {
        "id": "clinical-manufacturer"
      },
      "source": [
        "The number of epochs is a hyperparameter that defines the number times that the learning algorithm will work through the entire training dataset. One epoch means that each sample in the training dataset has had an opportunity to update the internal model parameters. An epoch is comprised of one or more batches."
      ],
      "id": "clinical-manufacturer"
    },
    {
      "cell_type": "code",
      "metadata": {
        "id": "cognitive-barbados"
      },
      "source": [
        "# define the learning rate change \n",
        "def exp_decay(epoch):\n",
        "    lrate = learning_rate * np.exp(-decay_rate*epoch)\n",
        "    return lrate"
      ],
      "id": "cognitive-barbados",
      "execution_count": null,
      "outputs": []
    },
    {
      "cell_type": "code",
      "metadata": {
        "id": "JAscdAAgKkMh"
      },
      "source": [
        "early_stop = EarlyStopping(monitor='val_accuracy', patience=5, restore_best_weights=True)\n",
        "epochs = 30\n",
        "decay_rate = 1e-6\n",
        "momentum = 0.9\n",
        "learning_rate = 0.01\n",
        "sgd = SGD(lr=learning_rate, momentum=momentum, decay=decay_rate, nesterov=True)\n",
        "loss_history = History()\n",
        "lr_rate = LearningRateScheduler(exp_decay)\n",
        "callbacks_list = [loss_history, lr_rate, early_stop]"
      ],
      "id": "JAscdAAgKkMh",
      "execution_count": null,
      "outputs": []
    },
    {
      "cell_type": "code",
      "metadata": {
        "colab": {
          "base_uri": "https://localhost:8080/"
        },
        "id": "careful-leadership",
        "outputId": "b85c0d57-36fa-4dc0-f27f-76772812dba5"
      },
      "source": [
        "model2 = keras.Sequential()\n",
        "model2.add(keras.layers.Flatten(input_shape=[32, 32, 3]))\n",
        "model2.add(keras.layers.Dense(1000, activation=\"relu\"))\n",
        "model2.add(keras.layers.Dense(400, activation=\"relu\"))\n",
        "model2.add(keras.layers.Dense(10, activation=\"softmax\"))\n",
        "\n",
        "model2.compile(loss = keras.losses.categorical_crossentropy,\n",
        "              optimizer = sgd,\n",
        "              metrics = [\"accuracy\"])\n",
        "\n",
        "model2.summary()"
      ],
      "id": "careful-leadership",
      "execution_count": null,
      "outputs": [
        {
          "output_type": "stream",
          "text": [
            "Model: \"sequential_2\"\n",
            "_________________________________________________________________\n",
            "Layer (type)                 Output Shape              Param #   \n",
            "=================================================================\n",
            "flatten_2 (Flatten)          (None, 3072)              0         \n",
            "_________________________________________________________________\n",
            "dense_5 (Dense)              (None, 1000)              3073000   \n",
            "_________________________________________________________________\n",
            "dense_6 (Dense)              (None, 400)               400400    \n",
            "_________________________________________________________________\n",
            "dense_7 (Dense)              (None, 10)                4010      \n",
            "=================================================================\n",
            "Total params: 3,477,410\n",
            "Trainable params: 3,477,410\n",
            "Non-trainable params: 0\n",
            "_________________________________________________________________\n"
          ],
          "name": "stdout"
        }
      ]
    },
    {
      "cell_type": "code",
      "metadata": {
        "id": "several-figure"
      },
      "source": [
        "%%time\n",
        "\n",
        "model2_history = model2.fit(X_train, y_train, epochs=epochs, \n",
        "                            verbose=1, callbacks=callbacks_list,\n",
        "                            validation_data=(X_val, y_val))"
      ],
      "id": "several-figure",
      "execution_count": null,
      "outputs": []
    },
    {
      "cell_type": "code",
      "metadata": {
        "colab": {
          "base_uri": "https://localhost:8080/"
        },
        "id": "ongoing-leather",
        "outputId": "f9509652-390b-4932-d5b7-d1ffbdd7c0e3"
      },
      "source": [
        "model2.evaluate(X_train, y_train)\n",
        "model2.evaluate(X_test, y_test)"
      ],
      "id": "ongoing-leather",
      "execution_count": null,
      "outputs": [
        {
          "output_type": "stream",
          "text": [
            "816/816 [==============================] - 2s 3ms/step - loss: 5.7397e-04 - accuracy: 1.0000\n",
            "341/341 [==============================] - 1s 3ms/step - loss: 0.1754 - accuracy: 0.9520\n"
          ],
          "name": "stdout"
        },
        {
          "output_type": "execute_result",
          "data": {
            "text/plain": [
              "[0.17537622153759003, 0.9519530534744263]"
            ]
          },
          "metadata": {
            "tags": []
          },
          "execution_count": 39
        }
      ]
    },
    {
      "cell_type": "code",
      "metadata": {
        "colab": {
          "base_uri": "https://localhost:8080/"
        },
        "id": "vocal-certificate",
        "outputId": "f7a7ee9e-3c29-4851-f487-fb5cbcd9cd37"
      },
      "source": [
        "y_pred2 = model2.predict(X_test)\n",
        "zo_loss(y_test, y_pred2)"
      ],
      "id": "vocal-certificate",
      "execution_count": null,
      "outputs": [
        {
          "output_type": "execute_result",
          "data": {
            "text/plain": [
              "0.03961122317990097"
            ]
          },
          "metadata": {
            "tags": []
          },
          "execution_count": 33
        }
      ]
    },
    {
      "cell_type": "markdown",
      "metadata": {
        "id": "olive-championship"
      },
      "source": [
        "Next we will try to change the setup adding regularization terms to the first setup.  "
      ],
      "id": "olive-championship"
    },
    {
      "cell_type": "markdown",
      "metadata": {
        "id": "moved-arabic"
      },
      "source": [
        "### Dropout  \n",
        "At every iteration, it randomly selects some nodes - given a certain probability - and removes them along with all of their incoming and outgoing connections."
      ],
      "id": "moved-arabic"
    },
    {
      "cell_type": "code",
      "metadata": {
        "colab": {
          "base_uri": "https://localhost:8080/"
        },
        "id": "unique-underground",
        "outputId": "e3a7457d-7eeb-401c-f577-f0901135fb79"
      },
      "source": [
        "model3 = keras.Sequential()\n",
        "model3.add(keras.layers.Flatten(input_shape=[32, 32, 3]))\n",
        "model3.add(keras.layers.Dense(1000, activation=\"relu\"))\n",
        "model3.add(keras.layers.Dropout(0.1))\n",
        "model3.add(keras.layers.Dense(400, activation=\"relu\"))\n",
        "model3.add(keras.layers.Dropout(0.2))\n",
        "model3.add(keras.layers.Dense(10, activation=\"softmax\"))\n",
        "\n",
        "model3.compile(loss = keras.losses.categorical_crossentropy,\n",
        "              optimizer = sgd,\n",
        "              metrics = [\"accuracy\"])\n",
        "\n",
        "model3.summary()"
      ],
      "id": "unique-underground",
      "execution_count": null,
      "outputs": [
        {
          "output_type": "stream",
          "text": [
            "Model: \"sequential_7\"\n",
            "_________________________________________________________________\n",
            "Layer (type)                 Output Shape              Param #   \n",
            "=================================================================\n",
            "flatten_7 (Flatten)          (None, 3072)              0         \n",
            "_________________________________________________________________\n",
            "dense_20 (Dense)             (None, 1000)              3073000   \n",
            "_________________________________________________________________\n",
            "dropout_6 (Dropout)          (None, 1000)              0         \n",
            "_________________________________________________________________\n",
            "dense_21 (Dense)             (None, 400)               400400    \n",
            "_________________________________________________________________\n",
            "dropout_7 (Dropout)          (None, 400)               0         \n",
            "_________________________________________________________________\n",
            "dense_22 (Dense)             (None, 10)                4010      \n",
            "=================================================================\n",
            "Total params: 3,477,410\n",
            "Trainable params: 3,477,410\n",
            "Non-trainable params: 0\n",
            "_________________________________________________________________\n"
          ],
          "name": "stdout"
        }
      ]
    },
    {
      "cell_type": "code",
      "metadata": {
        "id": "correct-flavor"
      },
      "source": [
        "%%time\n",
        "\n",
        "history3 = model3.fit(X_train, y_train, epochs=epochs, \n",
        "                            verbose=1, callbacks=callbacks_list,\n",
        "                            validation_data=(X_val, y_val))"
      ],
      "id": "correct-flavor",
      "execution_count": null,
      "outputs": []
    },
    {
      "cell_type": "code",
      "metadata": {
        "colab": {
          "base_uri": "https://localhost:8080/"
        },
        "id": "fifty-drill",
        "outputId": "1fd5797a-0218-42df-b1ec-3755c7233158"
      },
      "source": [
        "print(model3.evaluate(X_train, y_train))\n",
        "print(model3.evaluate(X_test, y_test))"
      ],
      "id": "fifty-drill",
      "execution_count": null,
      "outputs": [
        {
          "output_type": "stream",
          "text": [
            "816/816 [==============================] - 3s 3ms/step - loss: 0.0031 - accuracy: 0.9992\n",
            "[0.003137561958283186, 0.9992333054542542]\n",
            "341/341 [==============================] - 1s 3ms/step - loss: 0.2197 - accuracy: 0.9517\n",
            "[0.21973490715026855, 0.9516779780387878]\n"
          ],
          "name": "stdout"
        }
      ]
    },
    {
      "cell_type": "code",
      "metadata": {
        "colab": {
          "base_uri": "https://localhost:8080/",
          "height": 341
        },
        "id": "assisted-procedure",
        "outputId": "b9978fc0-5c04-4019-eb08-c6ead9f3d07c"
      },
      "source": [
        "pd.DataFrame(history3.history).plot(figsize=(8, 5))\n",
        "plt.grid(True)\n",
        "plt.gca().set_ylim(0, 1)\n",
        "plt.show()\n",
        "\n",
        "y_pred3 = model3.predict(X_test)\n",
        "zo_loss(y_test, y_pred3)"
      ],
      "id": "assisted-procedure",
      "execution_count": null,
      "outputs": [
        {
          "output_type": "display_data",
          "data": {
            "image/png": "[encoded data removed]",
            "text/plain": [
              "<Figure size 576x360 with 1 Axes>"
            ]
          },
          "metadata": {
            "tags": [],
            "needs_background": "light"
          }
        },
        {
          "output_type": "execute_result",
          "data": {
            "text/plain": [
              "0.0483220245736292"
            ]
          },
          "metadata": {
            "tags": []
          },
          "execution_count": 52
        }
      ]
    },
    {
      "cell_type": "markdown",
      "metadata": {
        "id": "surrounded-sheep"
      },
      "source": [
        "Adding the dropout in the final layer slightly improved the model accuracy."
      ],
      "id": "surrounded-sheep"
    },
    {
      "cell_type": "code",
      "metadata": {
        "colab": {
          "base_uri": "https://localhost:8080/"
        },
        "id": "unsigned-washer",
        "outputId": "bfc5f727-e55a-4de1-d8b6-27cf3141ff6b"
      },
      "source": [
        "model4 = keras.Sequential()\n",
        "model4.add(keras.layers.Flatten(input_shape=[32, 32, 3]))\n",
        "model4.add(keras.layers.Dense(1000, activation=\"relu\", kernel_regularizer=regularizers.l1_l2()))\n",
        "model4.add(keras.layers.Dense(400, activation=\"relu\", kernel_regularizer=regularizers.l1_l2()))\n",
        "model4.add(keras.layers.Dense(10, activation=\"softmax\"))\n",
        "\n",
        "model4.compile(loss = keras.losses.categorical_crossentropy,\n",
        "              optimizer = sgd,\n",
        "              metrics = [\"accuracy\"])\n",
        "\n",
        "model4.summary()"
      ],
      "id": "unsigned-washer",
      "execution_count": null,
      "outputs": [
        {
          "output_type": "stream",
          "text": [
            "Model: \"sequential_8\"\n",
            "_________________________________________________________________\n",
            "Layer (type)                 Output Shape              Param #   \n",
            "=================================================================\n",
            "flatten_8 (Flatten)          (None, 3072)              0         \n",
            "_________________________________________________________________\n",
            "dense_23 (Dense)             (None, 1000)              3073000   \n",
            "_________________________________________________________________\n",
            "dense_24 (Dense)             (None, 400)               400400    \n",
            "_________________________________________________________________\n",
            "dense_25 (Dense)             (None, 10)                4010      \n",
            "=================================================================\n",
            "Total params: 3,477,410\n",
            "Trainable params: 3,477,410\n",
            "Non-trainable params: 0\n",
            "_________________________________________________________________\n"
          ],
          "name": "stdout"
        }
      ]
    },
    {
      "cell_type": "code",
      "metadata": {
        "id": "married-replacement"
      },
      "source": [
        "%%time\n",
        "\n",
        "history4 = model4.fit(X_train, y_train, epochs=epochs, \n",
        "                            verbose=1, callbacks=callbacks_list,\n",
        "                            validation_data=(X_val, y_val))"
      ],
      "id": "married-replacement",
      "execution_count": null,
      "outputs": []
    },
    {
      "cell_type": "code",
      "metadata": {
        "colab": {
          "base_uri": "https://localhost:8080/",
          "height": 411
        },
        "id": "challenging-annotation",
        "outputId": "855ba8e6-12d0-498c-8d90-0e2aff69e55d"
      },
      "source": [
        "pd.DataFrame(history4.history).plot(figsize=(8, 5))\n",
        "plt.grid(True)\n",
        "plt.gca().set_ylim(0, 1)\n",
        "plt.show()\n",
        "\n",
        "print(model4.evaluate(X_train, y_train))\n",
        "print(model4.evaluate(X_test, y_test))\n",
        "\n",
        "y_pred4 = model4.predict(X_test)\n",
        "print(zo_loss(y_test, y_pred4))"
      ],
      "id": "challenging-annotation",
      "execution_count": null,
      "outputs": [
        {
          "output_type": "display_data",
          "data": {
            "image/png": "[encoded data removed]",
            "text/plain": [
              "<Figure size 576x360 with 1 Axes>"
            ]
          },
          "metadata": {
            "tags": [],
            "needs_background": "light"
          }
        },
        {
          "output_type": "stream",
          "text": [
            "816/816 [==============================] - 3s 4ms/step - loss: 5.0308 - accuracy: 0.1947\n",
            "[5.030827045440674, 0.19474047422409058]\n",
            "341/341 [==============================] - 1s 4ms/step - loss: 5.0308 - accuracy: 0.1957\n",
            "[5.030761241912842, 0.19567210972309113]\n",
            "0.8043278929029892\n"
          ],
          "name": "stdout"
        }
      ]
    },
    {
      "cell_type": "markdown",
      "metadata": {
        "id": "cGSv4bUVxhk4"
      },
      "source": [
        "# Hyperparameters Tuning"
      ],
      "id": "cGSv4bUVxhk4"
    },
    {
      "cell_type": "code",
      "metadata": {
        "id": "Xa6j1Vz1xgO3"
      },
      "source": [
        "def create_model(optimizer = 'adam'):\n",
        "\n",
        "    model = Sequential()\n",
        "    model.add(keras.layers.Flatten(input_shape=[32, 32, 3]))\n",
        "    model.add(Dense(1000, activation=tf.nn.relu))\n",
        "    model.add(Dense(400, activation=tf.nn.relu))\n",
        "    model.add(Dense(10, activation=tf.nn.softmax))\n",
        " \n",
        "    model.compile(loss='categorical_crossentropy',\n",
        "              optimizer=optimizer,\n",
        "              metrics=['accuracy'])\n",
        "    return model"
      ],
      "id": "Xa6j1Vz1xgO3",
      "execution_count": null,
      "outputs": []
    },
    {
      "cell_type": "code",
      "metadata": {
        "id": "RYq1VfWa7SXl"
      },
      "source": [
        "epochs = 30\n",
        "\n",
        "model_CV = KerasClassifier(build_fn=create_model, epochs=epochs, verbose=1)\n",
        "\n",
        "# define the grid search parameters\n",
        "\n",
        "optimizer = ['adam', 'rmsprop', 'adamax', 'nadam']\n",
        "\n",
        "param_grid = dict(optimizer=optimizer)\n",
        "grid = GridSearchCV(estimator=model_CV, param_grid=param_grid, cv=5)\n",
        "grid_result = grid.fit(X_train, y_train, callbacks=callbacks_list,\n",
        "                            validation_data=(X_val, y_val))"
      ],
      "id": "RYq1VfWa7SXl",
      "execution_count": null,
      "outputs": []
    },
    {
      "cell_type": "code",
      "metadata": {
        "id": "LGOYs8XT7tej",
        "colab": {
          "base_uri": "https://localhost:8080/"
        },
        "outputId": "3af87e7f-1142-4b55-d5fb-41409425d294"
      },
      "source": [
        "# print results\n",
        "print(f'Best Accuracy for {grid_result.best_score_} using {grid_result.best_params_}')\n",
        "means = grid_result.cv_results_['mean_test_score']\n",
        "stds = grid_result.cv_results_['std_test_score']\n",
        "params = grid_result.cv_results_['params']\n",
        "for mean, stdev, param in zip(means, stds, params):\n",
        "    print(f' mean={mean:.5}, std={stdev:.5} using {param}')"
      ],
      "id": "LGOYs8XT7tej",
      "execution_count": null,
      "outputs": [
        {
          "output_type": "stream",
          "text": [
            "Best Accuracy for 0.9997699737548829 using {'optimizer': 'adamax'}\n",
            " mean=0.92919, std=0.033816 using {'optimizer': 'adam'}\n",
            " mean=0.35529, std=0.067135 using {'optimizer': 'rmsprop'}\n",
            " mean=0.99977, std=0.00022355 using {'optimizer': 'adamax'}\n",
            " mean=0.19681, std=0.0093872 using {'optimizer': 'nadam'}\n"
          ],
          "name": "stdout"
        }
      ]
    },
    {
      "cell_type": "markdown",
      "metadata": {
        "id": "lvR6rPS6oju6"
      },
      "source": [
        "The best optimizers we found with this setting are SGD and Adamax, so we will continue the optimization process using them."
      ],
      "id": "lvR6rPS6oju6"
    },
    {
      "cell_type": "code",
      "metadata": {
        "id": "12s_uqHMbImT"
      },
      "source": [
        "def create_model_SGD(nl1=1, nl2=1,  nl3=1, \n",
        "                 nn1=200, nn2=100, nn3 = 50, l1=0.01, l2=0.01,\n",
        "                 dropout=0, output_shape=10, opt = sgd, act = 'relu'):\n",
        "    \n",
        "    \n",
        "    reg = keras.regularizers.l1_l2(l1=l1, l2=l2)\n",
        "                                                     \n",
        "    model = Sequential()\n",
        "    model.add(Flatten(input_shape=[32, 32, 3]))\n",
        "\n",
        "    first=True\n",
        "    \n",
        "    for i in range(nl1):\n",
        "        if first:\n",
        "            model.add(Dense(nn1, activation=act, kernel_regularizer=reg))\n",
        "            first=False\n",
        "        else: \n",
        "            model.add(Dense(nn1, activation=act, kernel_regularizer=reg))\n",
        "        if dropout!=0:\n",
        "            model.add(Dropout(dropout))\n",
        "            \n",
        "    for i in range(nl2):\n",
        "        if first:\n",
        "            model.add(Dense(nn2, activation=act, kernel_regularizer=reg))\n",
        "            first=False\n",
        "        else: \n",
        "            model.add(Dense(nn2, activation=act, kernel_regularizer=reg))\n",
        "        if dropout!=0:\n",
        "            model.add(Dropout(dropout))\n",
        "            \n",
        "    for i in range(nl3):\n",
        "        if first:\n",
        "            model.add(Dense(nn3, activation=act, kernel_regularizer=reg))\n",
        "            first=False\n",
        "        else: \n",
        "            model.add(Dense(nn3, activation=act, kernel_regularizer=reg)) \n",
        "        if dropout!=0:\n",
        "            model.add(Dropout(dropout))\n",
        "            \n",
        "    model.add(Dense(output_shape, activation='softmax'))\n",
        "    model.compile(loss='categorical_crossentropy', optimizer= opt, metrics=['accuracy'],)\n",
        "    return model"
      ],
      "id": "12s_uqHMbImT",
      "execution_count": null,
      "outputs": []
    },
    {
      "cell_type": "code",
      "metadata": {
        "id": "RNFHTMRecIH1"
      },
      "source": [
        "model_SGD = KerasClassifier(build_fn=create_model_SGD, epochs=30, verbose=1)"
      ],
      "id": "RNFHTMRecIH1",
      "execution_count": null,
      "outputs": []
    },
    {
      "cell_type": "code",
      "metadata": {
        "id": "l_j_FA4kcH9v"
      },
      "source": [
        "# numbers of layers\n",
        "nl1 = [0,1,2,3]\n",
        "nl2 = [0,1,2,3]\n",
        "nl3 = [0,1,2,3]\n",
        "\n",
        "# neurons in each layer\n",
        "nn1=[1000, 1500, 2000,]\n",
        "nn2=[500,1000,1500]\n",
        "nn3=[250,500,1000]\n",
        "\n",
        "# dropout and regularisation\n",
        "dropout = [0, 0.1, 0.2, 0.3]\n",
        "l1 = [0, 0.01, 0.003, 0.001,0.0001]\n",
        "l2 = [0, 0.01, 0.003, 0.001,0.0001]\n",
        "\n",
        "# dictionary summary\n",
        "param_grid = dict(nl1=nl1, nl2=nl2, nl3=nl3, nn1=nn1, nn2=nn2, nn3=nn3, \n",
        "                  l1=l1, l2=l2, dropout=dropout)"
      ],
      "id": "l_j_FA4kcH9v",
      "execution_count": null,
      "outputs": []
    },
    {
      "cell_type": "code",
      "metadata": {
        "id": "7XB3JQfffpa3"
      },
      "source": [
        "grid1 = RandomizedSearchCV(estimator=model_SGD, cv=KFold(5), param_distributions=param_grid, \n",
        "                          verbose=20,  n_iter=10)"
      ],
      "id": "7XB3JQfffpa3",
      "execution_count": null,
      "outputs": []
    },
    {
      "cell_type": "code",
      "metadata": {
        "id": "_97P1A3af4ux"
      },
      "source": [
        "grid_result_SGD = grid1.fit(X_train, y_train, \n",
        "                            verbose=1, callbacks=callbacks_list,\n",
        "                            validation_data=(X_val, y_val))"
      ],
      "id": "_97P1A3af4ux",
      "execution_count": null,
      "outputs": []
    },
    {
      "cell_type": "code",
      "metadata": {
        "id": "gdJOowBBVscu",
        "colab": {
          "base_uri": "https://localhost:8080/"
        },
        "outputId": "6da5da8c-d610-4c00-f566-275a77589de4"
      },
      "source": [
        "grid_result_SGD.best_params_"
      ],
      "id": "gdJOowBBVscu",
      "execution_count": null,
      "outputs": [
        {
          "output_type": "execute_result",
          "data": {
            "text/plain": [
              "{'dropout': 0,\n",
              " 'l1': 0,\n",
              " 'l2': 0,\n",
              " 'nl1': 2,\n",
              " 'nl2': 1,\n",
              " 'nl3': 3,\n",
              " 'nn1': 1500,\n",
              " 'nn2': 1500,\n",
              " 'nn3': 250}"
            ]
          },
          "metadata": {
            "tags": []
          },
          "execution_count": 32
        }
      ]
    },
    {
      "cell_type": "code",
      "metadata": {
        "id": "XrlhghdK3cFZ"
      },
      "source": [
        "best_SGD = grid_result_SGD.best_estimator_"
      ],
      "id": "XrlhghdK3cFZ",
      "execution_count": null,
      "outputs": []
    },
    {
      "cell_type": "code",
      "metadata": {
        "colab": {
          "base_uri": "https://localhost:8080/"
        },
        "id": "dT6ZOY3NDui8",
        "outputId": "6d63c9c8-28a4-43eb-bf16-0b3f4ce50403"
      },
      "source": [
        "best_SGD.model.save(\"/content/drive/MyDrive/ML_NN/sgd\")"
      ],
      "id": "dT6ZOY3NDui8",
      "execution_count": null,
      "outputs": [
        {
          "output_type": "stream",
          "text": [
            "INFO:tensorflow:Assets written to: /content/drive/MyDrive/ML_NN/sgd/assets\n"
          ],
          "name": "stdout"
        }
      ]
    },
    {
      "cell_type": "code",
      "metadata": {
        "id": "LjFHBbGms6E4"
      },
      "source": [
        "tunedSGD = keras.models.load_model(\"/content/drive/MyDrive/ML_NN/sgd\")"
      ],
      "id": "LjFHBbGms6E4",
      "execution_count": null,
      "outputs": []
    },
    {
      "cell_type": "code",
      "metadata": {
        "colab": {
          "base_uri": "https://localhost:8080/"
        },
        "id": "M9PiljcccNnR",
        "outputId": "4408bf37-1745-4f9f-b0e6-bf6abfd115c1"
      },
      "source": [
        "tunedSGD.summary()"
      ],
      "id": "M9PiljcccNnR",
      "execution_count": null,
      "outputs": [
        {
          "output_type": "stream",
          "text": [
            "Model: \"sequential_71\"\n",
            "_________________________________________________________________\n",
            "Layer (type)                 Output Shape              Param #   \n",
            "=================================================================\n",
            "flatten_71 (Flatten)         (None, 3072)              0         \n",
            "_________________________________________________________________\n",
            "dense_363 (Dense)            (None, 1500)              4609500   \n",
            "_________________________________________________________________\n",
            "dense_364 (Dense)            (None, 1500)              2251500   \n",
            "_________________________________________________________________\n",
            "dense_365 (Dense)            (None, 1500)              2251500   \n",
            "_________________________________________________________________\n",
            "dense_366 (Dense)            (None, 250)               375250    \n",
            "_________________________________________________________________\n",
            "dense_367 (Dense)            (None, 250)               62750     \n",
            "_________________________________________________________________\n",
            "dense_368 (Dense)            (None, 250)               62750     \n",
            "_________________________________________________________________\n",
            "dense_369 (Dense)            (None, 10)                2510      \n",
            "=================================================================\n",
            "Total params: 9,615,760\n",
            "Trainable params: 9,615,760\n",
            "Non-trainable params: 0\n",
            "_________________________________________________________________\n"
          ],
          "name": "stdout"
        }
      ]
    },
    {
      "cell_type": "code",
      "metadata": {
        "colab": {
          "base_uri": "https://localhost:8080/"
        },
        "id": "Wl8MLyTvvMAK",
        "outputId": "24c4d694-1c01-4fbd-fb4b-015bb0c069e2"
      },
      "source": [
        "tunedSGD.evaluate(X_train, y_train)\n",
        "tunedSGD.evaluate(X_test, y_test)"
      ],
      "id": "Wl8MLyTvvMAK",
      "execution_count": null,
      "outputs": [
        {
          "output_type": "stream",
          "text": [
            "816/816 [==============================] - 2s 3ms/step - loss: 1.2767e-04 - accuracy: 1.0000\n",
            "341/341 [==============================] - 1s 3ms/step - loss: 0.1272 - accuracy: 0.9642\n"
          ],
          "name": "stdout"
        },
        {
          "output_type": "execute_result",
          "data": {
            "text/plain": [
              "[0.12715739011764526, 0.9642398953437805]"
            ]
          },
          "metadata": {
            "tags": []
          },
          "execution_count": 47
        }
      ]
    },
    {
      "cell_type": "code",
      "metadata": {
        "colab": {
          "base_uri": "https://localhost:8080/"
        },
        "id": "0o55Dx_IvMAM",
        "outputId": "f6017035-9580-49ef-bbfc-746a4bffb2c5"
      },
      "source": [
        "y_pred = tunedSGD.predict(X_test)\n",
        "print(zo_loss(y_test, y_pred))"
      ],
      "id": "0o55Dx_IvMAM",
      "execution_count": null,
      "outputs": [
        {
          "output_type": "stream",
          "text": [
            "0.0357601320374106\n"
          ],
          "name": "stdout"
        }
      ]
    },
    {
      "cell_type": "code",
      "metadata": {
        "id": "A4AfS6nmCIDm"
      },
      "source": [
        "def create_model_AM(nl1=1, nl2=1,  nl3=1, \n",
        "                 nn1=200, nn2=100, nn3 = 50, l1=0.01, l2=0.01,\n",
        "                 dropout=0, output_shape=10, opt = keras.optimizers.Adamax(), act = 'relu'):\n",
        "    \n",
        "    \n",
        "    reg = keras.regularizers.l1_l2(l1=l1, l2=l2)\n",
        "                                                     \n",
        "    model = Sequential()\n",
        "    model.add(Flatten(input_shape=[32, 32, 3]))\n",
        "\n",
        "    first=True\n",
        "    \n",
        "    for i in range(nl1):\n",
        "        if first:\n",
        "            model.add(Dense(nn1, activation=act, kernel_regularizer=reg)) #, kernel_initializer= init\n",
        "            first=False\n",
        "        else: \n",
        "            model.add(Dense(nn1, activation=act, kernel_regularizer=reg)) #, kernel_initializer= init\n",
        "        if dropout!=0:\n",
        "            model.add(Dropout(dropout))\n",
        "            \n",
        "    for i in range(nl2):\n",
        "        if first:\n",
        "            model.add(Dense(nn2, activation=act, kernel_regularizer=reg)) #, kernel_initializer= init\n",
        "            first=False\n",
        "        else: \n",
        "            model.add(Dense(nn2, activation=act, kernel_regularizer=reg)) #, kernel_initializer= init\n",
        "        if dropout!=0:\n",
        "            model.add(Dropout(dropout))\n",
        "            \n",
        "    for i in range(nl3):\n",
        "        if first:\n",
        "            model.add(Dense(nn3, activation=act, kernel_regularizer=reg)) #, kernel_initializer= init\n",
        "            first=False\n",
        "        else: \n",
        "            model.add(Dense(nn3, activation=act, kernel_regularizer=reg)) #, kernel_initializer= init\n",
        "        if dropout!=0:\n",
        "            model.add(Dropout(dropout))\n",
        "            \n",
        "    model.add(Dense(output_shape, activation='softmax'))\n",
        "    model.compile(loss='categorical_crossentropy', optimizer= opt, metrics=['accuracy'],)\n",
        "    return model"
      ],
      "id": "A4AfS6nmCIDm",
      "execution_count": null,
      "outputs": []
    },
    {
      "cell_type": "code",
      "metadata": {
        "id": "m6jj16cQPYn-"
      },
      "source": [
        "model_Adamax = KerasClassifier(build_fn=create_model_AM, epochs=30, verbose=1)"
      ],
      "id": "m6jj16cQPYn-",
      "execution_count": null,
      "outputs": []
    },
    {
      "cell_type": "code",
      "metadata": {
        "id": "h3udy1tZM5uj"
      },
      "source": [
        "grid2 = RandomizedSearchCV(estimator= model_Adamax, cv=KFold(5), param_distributions=param_grid, verbose=20,  n_iter=10)"
      ],
      "id": "h3udy1tZM5uj",
      "execution_count": null,
      "outputs": []
    },
    {
      "cell_type": "code",
      "metadata": {
        "id": "cASbuCnvM52o"
      },
      "source": [
        "grid_result_AM = grid2.fit(X_train, y_train, callbacks=callbacks_list,\n",
        "                            validation_data=(X_val, y_val))"
      ],
      "id": "cASbuCnvM52o",
      "execution_count": null,
      "outputs": []
    },
    {
      "cell_type": "code",
      "metadata": {
        "colab": {
          "base_uri": "https://localhost:8080/"
        },
        "id": "14ay9vQ9k_fq",
        "outputId": "bda6f936-2432-41d7-caeb-e8647aefcb56"
      },
      "source": [
        "grid_result_AM.best_params_"
      ],
      "id": "14ay9vQ9k_fq",
      "execution_count": null,
      "outputs": [
        {
          "output_type": "execute_result",
          "data": {
            "text/plain": [
              "{'dropout': 0.1,\n",
              " 'l1': 0,\n",
              " 'l2': 0,\n",
              " 'nl1': 2,\n",
              " 'nl2': 0,\n",
              " 'nl3': 1,\n",
              " 'nn1': 1000,\n",
              " 'nn2': 1000,\n",
              " 'nn3': 1000}"
            ]
          },
          "metadata": {
            "tags": []
          },
          "execution_count": 54
        }
      ]
    },
    {
      "cell_type": "code",
      "metadata": {
        "id": "rsqtbBgRk_f0"
      },
      "source": [
        "best_AM = grid_result_AM.best_estimator_"
      ],
      "id": "rsqtbBgRk_f0",
      "execution_count": null,
      "outputs": []
    },
    {
      "cell_type": "code",
      "metadata": {
        "colab": {
          "base_uri": "https://localhost:8080/"
        },
        "id": "M-xY8MckA-wu",
        "outputId": "31a4a5c7-6437-438d-e376-29126ab15cab"
      },
      "source": [
        "best_AM.model.save('/content/drive/MyDrive/ML_NN/adamax')"
      ],
      "id": "M-xY8MckA-wu",
      "execution_count": null,
      "outputs": [
        {
          "output_type": "stream",
          "text": [
            "INFO:tensorflow:Assets written to: /content/drive/MyDrive/ML_NN/adamax/assets\n"
          ],
          "name": "stdout"
        }
      ]
    },
    {
      "cell_type": "code",
      "metadata": {
        "id": "_u5iLB9Gng4Y"
      },
      "source": [
        "tunedAdamax = keras.models.load_model(\"/content/drive/MyDrive/ML_NN/adamax\")"
      ],
      "id": "_u5iLB9Gng4Y",
      "execution_count": null,
      "outputs": []
    },
    {
      "cell_type": "code",
      "metadata": {
        "colab": {
          "base_uri": "https://localhost:8080/"
        },
        "id": "ruUw_uQbcD0a",
        "outputId": "9b50072c-f171-43e2-d675-763a411b6ea7"
      },
      "source": [
        "tunedAdamax.summary()"
      ],
      "id": "ruUw_uQbcD0a",
      "execution_count": null,
      "outputs": [
        {
          "output_type": "stream",
          "text": [
            "Model: \"sequential_122\"\n",
            "_________________________________________________________________\n",
            "Layer (type)                 Output Shape              Param #   \n",
            "=================================================================\n",
            "flatten_122 (Flatten)        (None, 3072)              0         \n",
            "_________________________________________________________________\n",
            "dense_695 (Dense)            (None, 1000)              3073000   \n",
            "_________________________________________________________________\n",
            "dropout_375 (Dropout)        (None, 1000)              0         \n",
            "_________________________________________________________________\n",
            "dense_696 (Dense)            (None, 1000)              1001000   \n",
            "_________________________________________________________________\n",
            "dropout_376 (Dropout)        (None, 1000)              0         \n",
            "_________________________________________________________________\n",
            "dense_697 (Dense)            (None, 1000)              1001000   \n",
            "_________________________________________________________________\n",
            "dropout_377 (Dropout)        (None, 1000)              0         \n",
            "_________________________________________________________________\n",
            "dense_698 (Dense)            (None, 10)                10010     \n",
            "=================================================================\n",
            "Total params: 5,085,010\n",
            "Trainable params: 5,085,010\n",
            "Non-trainable params: 0\n",
            "_________________________________________________________________\n"
          ],
          "name": "stdout"
        }
      ]
    },
    {
      "cell_type": "code",
      "metadata": {
        "colab": {
          "base_uri": "https://localhost:8080/"
        },
        "id": "W8SM3Lg6uPJD",
        "outputId": "646a4970-bdfb-409a-a6da-69348c292a80"
      },
      "source": [
        "tunedAdamax.evaluate(X_train, y_train)\n",
        "tunedAdamax.evaluate(X_test, y_test)"
      ],
      "id": "W8SM3Lg6uPJD",
      "execution_count": null,
      "outputs": [
        {
          "output_type": "stream",
          "text": [
            "816/816 [==============================] - 2s 3ms/step - loss: 0.0158 - accuracy: 0.9949\n",
            "341/341 [==============================] - 1s 3ms/step - loss: 0.2067 - accuracy: 0.9266\n"
          ],
          "name": "stdout"
        },
        {
          "output_type": "execute_result",
          "data": {
            "text/plain": [
              "[0.2066614180803299, 0.9265542030334473]"
            ]
          },
          "metadata": {
            "tags": []
          },
          "execution_count": 62
        }
      ]
    },
    {
      "cell_type": "code",
      "metadata": {
        "colab": {
          "base_uri": "https://localhost:8080/"
        },
        "id": "w4lmOFTduPJQ",
        "outputId": "d4081b4b-aa22-4e3d-e9f2-c664420139cf"
      },
      "source": [
        "y_pred = tunedAdamax.predict(X_test)\n",
        "print(zo_loss(y_test, y_pred))"
      ],
      "id": "w4lmOFTduPJQ",
      "execution_count": null,
      "outputs": [
        {
          "output_type": "stream",
          "text": [
            "0.07344580964606638\n"
          ],
          "name": "stdout"
        }
      ]
    },
    {
      "cell_type": "markdown",
      "metadata": {
        "id": "eBrHUH5ABz7-"
      },
      "source": [
        "# Convolutional Neural Network"
      ],
      "id": "eBrHUH5ABz7-"
    },
    {
      "cell_type": "markdown",
      "metadata": {
        "id": "ZsOFb31vtvaa"
      },
      "source": [
        "### VGG16 Convolutional Network"
      ],
      "id": "ZsOFb31vtvaa"
    },
    {
      "cell_type": "code",
      "metadata": {
        "id": "dOp58NB5m4bb"
      },
      "source": [
        "model = Sequential()\n",
        "model.add(Conv2D(input_shape=[32,32,3],filters=64,kernel_size=(3,3),padding=\"same\", activation=\"relu\"))\n",
        "model.add(Conv2D(filters=64,kernel_size=(3,3),padding=\"same\", activation=\"relu\"))\n",
        "model.add(MaxPooling2D(pool_size=(2,2),strides=(2,2)))\n",
        "model.add(Conv2D(filters=128, kernel_size=(3,3), padding=\"same\", activation=\"relu\"))\n",
        "model.add(Conv2D(filters=128, kernel_size=(3,3), padding=\"same\", activation=\"relu\"))\n",
        "model.add(MaxPooling2D(pool_size=(2,2),strides=(2,2)))\n",
        "model.add(Conv2D(filters=256, kernel_size=(3,3), padding=\"same\", activation=\"relu\"))\n",
        "model.add(Conv2D(filters=256, kernel_size=(3,3), padding=\"same\", activation=\"relu\"))\n",
        "model.add(Conv2D(filters=256, kernel_size=(3,3), padding=\"same\", activation=\"relu\"))\n",
        "model.add(MaxPooling2D(pool_size=(2,2),strides=(2,2)))\n",
        "model.add(Conv2D(filters=512, kernel_size=(3,3), padding=\"same\", activation=\"relu\"))\n",
        "model.add(Conv2D(filters=512, kernel_size=(3,3), padding=\"same\", activation=\"relu\"))\n",
        "model.add(Conv2D(filters=512, kernel_size=(3,3), padding=\"same\", activation=\"relu\"))\n",
        "model.add(MaxPooling2D(pool_size=(2,2),strides=(2,2)))\n",
        "model.add(Conv2D(filters=512, kernel_size=(3,3), padding=\"same\", activation=\"relu\"))\n",
        "model.add(Conv2D(filters=512, kernel_size=(3,3), padding=\"same\", activation=\"relu\"))\n",
        "model.add(Conv2D(filters=512, kernel_size=(3,3), padding=\"same\", activation=\"relu\"))\n",
        "model.add(MaxPooling2D(pool_size=(2,2),strides=(2,2)))\n",
        "model.add(Flatten())\n",
        "model.add(Dense(units=4096,activation=\"relu\"))\n",
        "model.add(Dense(units=4096,activation=\"relu\"))\n",
        "model.add(Dense(units=10, activation=\"softmax\"))"
      ],
      "id": "dOp58NB5m4bb",
      "execution_count": null,
      "outputs": []
    },
    {
      "cell_type": "code",
      "metadata": {
        "colab": {
          "base_uri": "https://localhost:8080/"
        },
        "id": "GzYMCgBMq4WT",
        "outputId": "21d0afbc-1902-4dc3-e8d6-eaa09b181778"
      },
      "source": [
        "model.summary()"
      ],
      "id": "GzYMCgBMq4WT",
      "execution_count": null,
      "outputs": [
        {
          "output_type": "stream",
          "text": [
            "Model: \"sequential_2\"\n",
            "_________________________________________________________________\n",
            "Layer (type)                 Output Shape              Param #   \n",
            "=================================================================\n",
            "conv2d_26 (Conv2D)           (None, 32, 32, 64)        1792      \n",
            "_________________________________________________________________\n",
            "conv2d_27 (Conv2D)           (None, 32, 32, 64)        36928     \n",
            "_________________________________________________________________\n",
            "max_pooling2d_10 (MaxPooling (None, 16, 16, 64)        0         \n",
            "_________________________________________________________________\n",
            "conv2d_28 (Conv2D)           (None, 16, 16, 128)       73856     \n",
            "_________________________________________________________________\n",
            "conv2d_29 (Conv2D)           (None, 16, 16, 128)       147584    \n",
            "_________________________________________________________________\n",
            "max_pooling2d_11 (MaxPooling (None, 8, 8, 128)         0         \n",
            "_________________________________________________________________\n",
            "conv2d_30 (Conv2D)           (None, 8, 8, 256)         295168    \n",
            "_________________________________________________________________\n",
            "conv2d_31 (Conv2D)           (None, 8, 8, 256)         590080    \n",
            "_________________________________________________________________\n",
            "conv2d_32 (Conv2D)           (None, 8, 8, 256)         590080    \n",
            "_________________________________________________________________\n",
            "max_pooling2d_12 (MaxPooling (None, 4, 4, 256)         0         \n",
            "_________________________________________________________________\n",
            "conv2d_33 (Conv2D)           (None, 4, 4, 512)         1180160   \n",
            "_________________________________________________________________\n",
            "conv2d_34 (Conv2D)           (None, 4, 4, 512)         2359808   \n",
            "_________________________________________________________________\n",
            "conv2d_35 (Conv2D)           (None, 4, 4, 512)         2359808   \n",
            "_________________________________________________________________\n",
            "max_pooling2d_13 (MaxPooling (None, 2, 2, 512)         0         \n",
            "_________________________________________________________________\n",
            "conv2d_36 (Conv2D)           (None, 2, 2, 512)         2359808   \n",
            "_________________________________________________________________\n",
            "conv2d_37 (Conv2D)           (None, 2, 2, 512)         2359808   \n",
            "_________________________________________________________________\n",
            "conv2d_38 (Conv2D)           (None, 2, 2, 512)         2359808   \n",
            "_________________________________________________________________\n",
            "max_pooling2d_14 (MaxPooling (None, 1, 1, 512)         0         \n",
            "_________________________________________________________________\n",
            "flatten_2 (Flatten)          (None, 512)               0         \n",
            "_________________________________________________________________\n",
            "dense_6 (Dense)              (None, 4096)              2101248   \n",
            "_________________________________________________________________\n",
            "dense_7 (Dense)              (None, 4096)              16781312  \n",
            "_________________________________________________________________\n",
            "dense_8 (Dense)              (None, 10)                40970     \n",
            "=================================================================\n",
            "Total params: 33,638,218\n",
            "Trainable params: 33,638,218\n",
            "Non-trainable params: 0\n",
            "_________________________________________________________________\n"
          ],
          "name": "stdout"
        }
      ]
    },
    {
      "cell_type": "code",
      "metadata": {
        "id": "rqpBe6e8ohWu"
      },
      "source": [
        "model.compile(loss='categorical_crossentropy',\n",
        "              optimizer='adamax',\n",
        "              metrics=['accuracy'])"
      ],
      "id": "rqpBe6e8ohWu",
      "execution_count": null,
      "outputs": []
    },
    {
      "cell_type": "code",
      "metadata": {
        "id": "j-TcPTiNohW6"
      },
      "source": [
        "history = model.fit(X_train,y_train,\n",
        "        epochs=20,\n",
        "        validation_data=(X_val, y_val),\n",
        "        verbose=1, shuffle=True)"
      ],
      "id": "j-TcPTiNohW6",
      "execution_count": null,
      "outputs": []
    },
    {
      "cell_type": "code",
      "metadata": {
        "id": "bVAA2LNfohW7"
      },
      "source": [
        "model.evaluate(X_train, y_train)\n",
        "model.evaluate(X_test, y_test)"
      ],
      "id": "bVAA2LNfohW7",
      "execution_count": null,
      "outputs": []
    },
    {
      "cell_type": "code",
      "metadata": {
        "colab": {
          "base_uri": "https://localhost:8080/",
          "height": 324
        },
        "id": "WBV_3XHrohW8",
        "outputId": "148a2738-44e6-423f-b0e7-f08e853952f0"
      },
      "source": [
        "pd.DataFrame(history.history).plot(figsize=(8, 5))\n",
        "plt.grid(True)\n",
        "plt.gca().set_ylim(0, 1)\n",
        "plt.show()"
      ],
      "id": "WBV_3XHrohW8",
      "execution_count": null,
      "outputs": [
        {
          "output_type": "display_data",
          "data": {
            "image/png": "[encoded data removed]",
            "text/plain": [
              "<Figure size 576x360 with 1 Axes>"
            ]
          },
          "metadata": {
            "tags": [],
            "needs_background": "light"
          }
        }
      ]
    },
    {
      "cell_type": "code",
      "metadata": {
        "colab": {
          "base_uri": "https://localhost:8080/"
        },
        "id": "yh0cV37GohW8",
        "outputId": "abb0558f-4903-44c7-ce29-f357a339b9c3"
      },
      "source": [
        "y_pred = model.predict(X_test)\n",
        "print(zo_loss(y_test, y_pred))"
      ],
      "id": "yh0cV37GohW8",
      "execution_count": null,
      "outputs": [
        {
          "output_type": "stream",
          "text": [
            "0.01311204841371722\n"
          ],
          "name": "stdout"
        }
      ]
    },
    {
      "cell_type": "markdown",
      "metadata": {
        "id": "i5eMf5e4wkvE"
      },
      "source": [
        "### Res-Net 34"
      ],
      "id": "i5eMf5e4wkvE"
    },
    {
      "cell_type": "code",
      "metadata": {
        "id": "pJfJ4P0Mygjk"
      },
      "source": [
        "class ResidualUnit(keras.layers.Layer):\n",
        "  def __init__(self, filters, strides=1, activation=\"relu\", **kwargs):\n",
        "    super().__init__(**kwargs)\n",
        "    self.activation = keras.activations.get(activation)\n",
        "    self.main_layers = [\n",
        "      keras.layers.Conv2D(filters, 3, strides=strides, padding=\"same\", use_bias=False), \n",
        "      keras.layers.BatchNormalization(),\n",
        "      self.activation, keras.layers.Conv2D(filters, 3, strides=1, padding=\"same\", use_bias=False), keras.layers.BatchNormalization()]\n",
        "    self.skip_layers = []\n",
        "    if strides > 1:\n",
        "      self.skip_layers = [keras.layers.Conv2D(filters, 1, strides=strides, padding=\"same\", use_bias=False), keras.layers.BatchNormalization()]\n",
        "  def call(self, inputs):\n",
        "    Z = inputs\n",
        "    for layer in self.main_layers:\n",
        "      Z = layer(Z)\n",
        "    skip_Z = inputs\n",
        "    for layer in self.skip_layers:\n",
        "      skip_Z = layer(skip_Z)\n",
        "    return self.activation(Z + skip_Z)"
      ],
      "id": "pJfJ4P0Mygjk",
      "execution_count": null,
      "outputs": []
    },
    {
      "cell_type": "code",
      "metadata": {
        "colab": {
          "base_uri": "https://localhost:8080/"
        },
        "id": "najXi2TZwuUx",
        "outputId": "da5c4975-8beb-4f46-e9e3-a2dcba47aae5"
      },
      "source": [
        "model = keras.models.Sequential()\n",
        "model.add(keras.layers.Conv2D(64, 7, strides=2, input_shape=[32, 32, 3],\n",
        "                              padding=\"same\", use_bias=False))\n",
        "model.add(keras.layers.BatchNormalization())\n",
        "model.add(keras.layers.Activation(\"relu\"))\n",
        "model.add(keras.layers.MaxPool2D(pool_size=3, strides=2, padding=\"same\"))\n",
        "prev_filters = 64\n",
        "for filters in [64] * 3 + [128] * 4 + [256] * 6 + [512] * 3:\n",
        "  strides = 1 if filters == prev_filters else 2\n",
        "  model.add(ResidualUnit(filters, strides=strides))\n",
        "  prev_filters = filters\n",
        "model.add(keras.layers.GlobalAvgPool2D())\n",
        "model.add(keras.layers.Flatten())\n",
        "model.add(keras.layers.Dense(10, activation=\"softmax\"))\n",
        "model.summary()"
      ],
      "id": "najXi2TZwuUx",
      "execution_count": null,
      "outputs": [
        {
          "output_type": "stream",
          "text": [
            "Model: \"sequential_6\"\n",
            "_________________________________________________________________\n",
            "Layer (type)                 Output Shape              Param #   \n",
            "=================================================================\n",
            "conv2d_112 (Conv2D)          (None, 16, 16, 64)        9408      \n",
            "_________________________________________________________________\n",
            "batch_normalization_73 (Batc (None, 16, 16, 64)        256       \n",
            "_________________________________________________________________\n",
            "activation_3 (Activation)    (None, 16, 16, 64)        0         \n",
            "_________________________________________________________________\n",
            "max_pooling2d_18 (MaxPooling (None, 8, 8, 64)          0         \n",
            "_________________________________________________________________\n",
            "residual_unit_32 (ResidualUn (None, 8, 8, 64)          74240     \n",
            "_________________________________________________________________\n",
            "residual_unit_33 (ResidualUn (None, 8, 8, 64)          74240     \n",
            "_________________________________________________________________\n",
            "residual_unit_34 (ResidualUn (None, 8, 8, 64)          74240     \n",
            "_________________________________________________________________\n",
            "residual_unit_35 (ResidualUn (None, 4, 4, 128)         230912    \n",
            "_________________________________________________________________\n",
            "residual_unit_36 (ResidualUn (None, 4, 4, 128)         295936    \n",
            "_________________________________________________________________\n",
            "residual_unit_37 (ResidualUn (None, 4, 4, 128)         295936    \n",
            "_________________________________________________________________\n",
            "residual_unit_38 (ResidualUn (None, 4, 4, 128)         295936    \n",
            "_________________________________________________________________\n",
            "residual_unit_39 (ResidualUn (None, 2, 2, 256)         920576    \n",
            "_________________________________________________________________\n",
            "residual_unit_40 (ResidualUn (None, 2, 2, 256)         1181696   \n",
            "_________________________________________________________________\n",
            "residual_unit_41 (ResidualUn (None, 2, 2, 256)         1181696   \n",
            "_________________________________________________________________\n",
            "residual_unit_42 (ResidualUn (None, 2, 2, 256)         1181696   \n",
            "_________________________________________________________________\n",
            "residual_unit_43 (ResidualUn (None, 2, 2, 256)         1181696   \n",
            "_________________________________________________________________\n",
            "residual_unit_44 (ResidualUn (None, 2, 2, 256)         1181696   \n",
            "_________________________________________________________________\n",
            "residual_unit_45 (ResidualUn (None, 1, 1, 512)         3676160   \n",
            "_________________________________________________________________\n",
            "residual_unit_46 (ResidualUn (None, 1, 1, 512)         4722688   \n",
            "_________________________________________________________________\n",
            "residual_unit_47 (ResidualUn (None, 1, 1, 512)         4722688   \n",
            "_________________________________________________________________\n",
            "global_average_pooling2d_2 ( (None, 512)               0         \n",
            "_________________________________________________________________\n",
            "flatten_5 (Flatten)          (None, 512)               0         \n",
            "_________________________________________________________________\n",
            "dense_11 (Dense)             (None, 10)                5130      \n",
            "=================================================================\n",
            "Total params: 21,306,826\n",
            "Trainable params: 21,289,802\n",
            "Non-trainable params: 17,024\n",
            "_________________________________________________________________\n"
          ],
          "name": "stdout"
        }
      ]
    },
    {
      "cell_type": "code",
      "metadata": {
        "id": "l7m3aYb4zTf5"
      },
      "source": [
        "model.compile(loss='categorical_crossentropy',\n",
        "              optimizer='adamax',\n",
        "              metrics=['accuracy'])"
      ],
      "id": "l7m3aYb4zTf5",
      "execution_count": null,
      "outputs": []
    },
    {
      "cell_type": "code",
      "metadata": {
        "id": "BRRTtGRMzTgd"
      },
      "source": [
        "history = model.fit(X_train,y_train,\n",
        "        epochs=20,\n",
        "        validation_data=(X_val, y_val),\n",
        "        verbose=1, shuffle=True)"
      ],
      "id": "BRRTtGRMzTgd",
      "execution_count": null,
      "outputs": []
    },
    {
      "cell_type": "code",
      "metadata": {
        "colab": {
          "base_uri": "https://localhost:8080/"
        },
        "id": "1JKas610zTgg",
        "outputId": "8a2cbd63-7710-41e4-b57e-1e27e6ff3153"
      },
      "source": [
        "model.evaluate(X_train, y_train)\n",
        "model.evaluate(X_test, y_test)"
      ],
      "id": "1JKas610zTgg",
      "execution_count": null,
      "outputs": [
        {
          "output_type": "stream",
          "text": [
            "816/816 [==============================] - 8s 10ms/step - loss: 4.2563e-04 - accuracy: 1.0000\n",
            "341/341 [==============================] - 3s 10ms/step - loss: 0.0320 - accuracy: 0.9907\n"
          ],
          "name": "stdout"
        },
        {
          "output_type": "execute_result",
          "data": {
            "text/plain": [
              "[0.03203872963786125, 0.9907390475273132]"
            ]
          },
          "metadata": {
            "tags": []
          },
          "execution_count": 65
        }
      ]
    },
    {
      "cell_type": "code",
      "metadata": {
        "colab": {
          "base_uri": "https://localhost:8080/",
          "height": 324
        },
        "id": "bHK_gSevzTgi",
        "outputId": "ec5a306b-2f6b-42ef-c999-b4c406afe53a"
      },
      "source": [
        "pd.DataFrame(history.history).plot(figsize=(8, 5))\n",
        "plt.grid(True)\n",
        "plt.gca().set_ylim(0, 1)\n",
        "plt.show()"
      ],
      "id": "bHK_gSevzTgi",
      "execution_count": null,
      "outputs": [
        {
          "output_type": "display_data",
          "data": {
            "image/png": "[encoded data removed]",
            "text/plain": [
              "<Figure size 576x360 with 1 Axes>"
            ]
          },
          "metadata": {
            "tags": [],
            "needs_background": "light"
          }
        }
      ]
    },
    {
      "cell_type": "code",
      "metadata": {
        "colab": {
          "base_uri": "https://localhost:8080/"
        },
        "id": "VLWGNkFnzTgk",
        "outputId": "dfbce837-4a57-4722-f50e-da90b142c5ae"
      },
      "source": [
        "y_pred = model.predict(X_test)\n",
        "print(zo_loss(y_test, y_pred))"
      ],
      "id": "VLWGNkFnzTgk",
      "execution_count": null,
      "outputs": [
        {
          "output_type": "stream",
          "text": [
            "0.009260957271226847\n"
          ],
          "name": "stdout"
        }
      ]
    },
    {
      "cell_type": "code",
      "metadata": {
        "id": "np5wgQzX7f8E"
      },
      "source": [
        "#!pip install visualkeras\n",
        "#import visualkeras\n",
        "# visualkeras.layered_view(model, to_file='output.png') # write to disk\n",
        "# visualkeras.layered_view(model, to_file='output.png').show() # write and show\n",
        "\n",
        "# visualkeras.layered_view(model)"
      ],
      "id": "np5wgQzX7f8E",
      "execution_count": null,
      "outputs": []
    }
  ]
}